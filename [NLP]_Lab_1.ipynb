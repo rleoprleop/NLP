{
  "cells": [
    {
      "cell_type": "markdown",
      "metadata": {
        "id": "view-in-github",
        "colab_type": "text"
      },
      "source": [
        "<a href=\"https://colab.research.google.com/github/rleoprleop/NLP/blob/main/%5BNLP%5D_Lab_1.ipynb\" target=\"_parent\"><img src=\"https://colab.research.google.com/assets/colab-badge.svg\" alt=\"Open In Colab\"/></a>"
      ]
    },
    {
      "cell_type": "markdown",
      "metadata": {
        "id": "sF0BmaZ-1zmk"
      },
      "source": [
        "#Analyzing Text Data\n",
        "## Load relevent Packages"
      ]
    },
    {
      "cell_type": "code",
      "execution_count": 1,
      "metadata": {
        "colab": {
          "base_uri": "https://localhost:8080/"
        },
        "id": "lG40Q87R1zmm",
        "outputId": "6f07a085-2d64-4383-d666-e4c9509cfd00"
      },
      "outputs": [
        {
          "output_type": "stream",
          "name": "stderr",
          "text": [
            "/usr/local/lib/python3.8/dist-packages/torch/cuda/__init__.py:497: UserWarning: Can't initialize NVML\n",
            "  warnings.warn(\"Can't initialize NVML\")\n",
            "[nltk_data] Downloading package punkt to /root/nltk_data...\n",
            "[nltk_data]   Package punkt is already up-to-date!\n",
            "[nltk_data] Downloading package stopwords to /root/nltk_data...\n",
            "[nltk_data]   Package stopwords is already up-to-date!\n",
            "[nltk_data] Downloading package omw-1.4 to /root/nltk_data...\n",
            "[nltk_data]   Package omw-1.4 is already up-to-date!\n",
            "[nltk_data] Downloading package wordnet to /root/nltk_data...\n",
            "[nltk_data]   Package wordnet is already up-to-date!\n",
            "[nltk_data] Downloading package averaged_perceptron_tagger to\n",
            "[nltk_data]     /root/nltk_data...\n",
            "[nltk_data]   Package averaged_perceptron_tagger is already up-to-\n",
            "[nltk_data]       date!\n"
          ]
        },
        {
          "output_type": "execute_result",
          "data": {
            "text/plain": [
              "True"
            ]
          },
          "metadata": {},
          "execution_count": 1
        }
      ],
      "source": [
        "# Import spacy\n",
        "import spacy\n",
        "\n",
        "# Loading NLTK module\n",
        "import nltk\n",
        "\n",
        "# downloading punkt\n",
        "nltk.download('punkt')\n",
        "\n",
        "# downloading stopwords\n",
        "nltk.download('stopwords')\n",
        "\n",
        "# downloading omw-1.4\n",
        "nltk.download('omw-1.4')\n",
        "\n",
        "# downloading wordnet\n",
        "nltk.download('wordnet')\n",
        "\n",
        "# downloading average_perception_tagger \n",
        "nltk.download('averaged_perceptron_tagger')"
      ]
    },
    {
      "cell_type": "markdown",
      "metadata": {
        "id": "hFLNnmbs1zmm"
      },
      "source": [
        "## Tokenization"
      ]
    },
    {
      "cell_type": "code",
      "execution_count": 2,
      "metadata": {
        "colab": {
          "base_uri": "https://localhost:8080/"
        },
        "id": "YTtW6Iuq1zmn",
        "outputId": "09a52b2e-f5e6-4934-86bf-6c82b0a8d23c"
      },
      "outputs": [
        {
          "output_type": "stream",
          "name": "stdout",
          "text": [
            "['Taj Mahal is one of the beautiful monuments.', 'It is one of the wonders of the world.', 'It was built by Shah Jahan in 1631 in memory of his third beloved wife Mumtaj Mahal.']\n"
          ]
        }
      ],
      "source": [
        "# Sentence Tokenization\n",
        "from nltk.tokenize import sent_tokenize\n",
        " \n",
        "paragraph=\"\"\"Taj Mahal is one of the beautiful monuments. It is one of the wonders of the world. It was built by Shah Jahan in 1631 in memory of his third beloved wife Mumtaj Mahal.\"\"\"\n",
        " \n",
        "tokenized_sentences=sent_tokenize(paragraph)\n",
        "print(tokenized_sentences)"
      ]
    },
    {
      "cell_type": "code",
      "execution_count": 3,
      "metadata": {
        "colab": {
          "base_uri": "https://localhost:8080/"
        },
        "id": "HiuBT-jm1zmn",
        "outputId": "54d2ba90-57e7-40f8-d1da-51e2ef8d8b70"
      },
      "outputs": [
        {
          "output_type": "stream",
          "name": "stdout",
          "text": [
            "['Taj Mahal is one of the beautiful monuments.', 'It is one of the wonders of the world.', 'It was built by Shah Jahan in 1631 in memory of his third beloved wife Mumtaj Mahal.']\n"
          ]
        }
      ],
      "source": [
        "# Loading english language model \n",
        "nlp = spacy.load(\"en_core_web_sm\")\n",
        " \n",
        "# Append the sentencizer pipe to the nlp pipeline\n",
        "nlp.add_pipe('sentencizer')\n",
        " \n",
        "paragraph = \"\"\"Taj Mahal is one of the beautiful monuments. It is one of the wonders of the world. It was built by Shah Jahan in 1631 in memory of his third beloved wife Mumtaj Mahal.\"\"\"\n",
        " \n",
        "# Create nlp Object to handle linguistic annotations in a documents.\n",
        "nlp_doc = nlp(paragraph)\n",
        " \n",
        "# Generate list of tokenized sentence\n",
        "tokenized_sentences = []\n",
        "for sentence in nlp_doc.sents:\n",
        "    tokenized_sentences.append(sentence.text)\n",
        "print(tokenized_sentences)"
      ]
    },
    {
      "cell_type": "code",
      "execution_count": 4,
      "metadata": {
        "colab": {
          "base_uri": "https://localhost:8080/"
        },
        "id": "nscR6b8g1zmn",
        "outputId": "4842a51f-4a3c-4f51-857c-e6f9dfcef05b"
      },
      "outputs": [
        {
          "output_type": "stream",
          "name": "stdout",
          "text": [
            "['Taj', 'Mahal', 'is', 'one', 'of', 'the', 'beautiful', 'monuments', '.', 'It', 'is', 'one', 'of', 'the', 'wonders', 'of', 'the', 'world', '.', 'It', 'was', 'built', 'by', 'Shah', 'Jahan', 'in', '1631', 'in', 'memory', 'of', 'his', 'third', 'beloved', 'wife', 'Mumtaj', 'Mahal', '.']\n"
          ]
        }
      ],
      "source": [
        "# Import nltk word_tokenize method\n",
        "from nltk.tokenize import word_tokenize\n",
        " \n",
        "# Split paragraph into words\n",
        "tokenized_words=word_tokenize(paragraph)\n",
        "print(tokenized_words)"
      ]
    },
    {
      "cell_type": "code",
      "execution_count": 5,
      "metadata": {
        "colab": {
          "base_uri": "https://localhost:8080/"
        },
        "id": "2xk4p7D_1zmo",
        "outputId": "83bb11a0-8fea-4ca7-b1a4-cb799a2ca304"
      },
      "outputs": [
        {
          "output_type": "stream",
          "name": "stdout",
          "text": [
            "['Taj', 'Mahal', 'is', 'one', 'of', 'the', 'beautiful', 'monuments', '.', 'It', 'is', 'one', 'of', 'the', 'wonders', 'of', 'the', 'world', '.', 'It', 'was', 'built', 'by', 'Shah', 'Jahan', 'in', '1631', 'in', 'memory', 'of', 'his', 'third', 'beloved', 'wife', 'Mumtaj', 'Mahal', '.']\n"
          ]
        }
      ],
      "source": [
        "# Loading english language model \n",
        "nlp = spacy.load(\"en_core_web_sm\")\n",
        " \n",
        "paragraph = \"\"\"Taj Mahal is one of the beautiful monuments. It is one of the wonders of the world. It was built by Shah Jahan in 1631 in memory of his third beloved wife Mumtaj Mahal.\"\"\"\n",
        " \n",
        "# Create nlp Object to handle linguistic annotations in a documents.\n",
        "my_doc = nlp(paragraph)\n",
        " \n",
        "# tokenize paragraph into words\n",
        "tokenized_words = []\n",
        "for token in my_doc:\n",
        "    tokenized_words.append(token.text)\n",
        "print(tokenized_words)"
      ]
    },
    {
      "cell_type": "code",
      "execution_count": 6,
      "metadata": {
        "colab": {
          "base_uri": "https://localhost:8080/"
        },
        "id": "a_L70u5y1zmo",
        "outputId": "77e9a5ca-39fc-4d4c-dd3a-44ce92aa7e19"
      },
      "outputs": [
        {
          "output_type": "execute_result",
          "data": {
            "text/plain": [
              "[('of', 4), ('the', 3), ('.', 3), ('Mahal', 2), ('is', 2)]"
            ]
          },
          "metadata": {},
          "execution_count": 6
        }
      ],
      "source": [
        "# Import frequency distribution  \n",
        "from nltk.probability import FreqDist\n",
        " \n",
        "# Find frequency distribution of paragraph\n",
        "fdist = FreqDist(tokenized_words)\n",
        " \n",
        "# Check top 5 common words\n",
        "fdist.most_common(5)"
      ]
    },
    {
      "cell_type": "code",
      "execution_count": 7,
      "metadata": {
        "colab": {
          "base_uri": "https://localhost:8080/",
          "height": 329
        },
        "id": "ZbB7o_911zmp",
        "outputId": "8ddfcdf3-6cab-4a32-be3d-1aced6d3c11d"
      },
      "outputs": [
        {
          "output_type": "display_data",
          "data": {
            "text/plain": [
              "<Figure size 432x288 with 1 Axes>"
            ],
            "image/png": "[encoded data removed]"
          },
          "metadata": {
            "needs_background": "light"
          }
        }
      ],
      "source": [
        "# Import matplotlib\n",
        "import matplotlib.pyplot as plt\n",
        " \n",
        "# Plot Frequency Distribution\n",
        "fdist.plot(20, cumulative=False)\n",
        "plt.show()"
      ]
    },
    {
      "cell_type": "markdown",
      "metadata": {
        "id": "CCPSXWQG1zmp"
      },
      "source": [
        "## Stopwords"
      ]
    },
    {
      "cell_type": "code",
      "execution_count": 8,
      "metadata": {
        "colab": {
          "base_uri": "https://localhost:8080/"
        },
        "id": "xnKZtTg8cESS",
        "outputId": "e7f3fa90-ec4b-453d-f200-59f05214608e"
      },
      "outputs": [
        {
          "output_type": "stream",
          "name": "stdout",
          "text": [
            "{'which', 'there', 'a', 'don', 'same', 'd', 'been', 'an', \"didn't\", 'below', 'and', 'from', 'we', \"you're\", 'with', 'wasn', 'until', 'who', 'where', 'my', 'most', 'ourselves', 'or', 'too', 'its', 'her', 'than', 'do', 'each', 'for', 'few', 't', \"wouldn't\", 'at', 'because', 'in', 'i', 'all', 'that', 'me', \"should've\", 'to', 'their', 'if', 'our', \"shan't\", 'does', 'm', 'between', 'y', 'how', 'weren', 'as', 'such', \"that'll\", 'the', \"she's\", 'not', 'yourself', 'needn', 'only', 'both', 'are', 'before', 'these', 've', 'can', 'over', \"won't\", 'those', 'more', 're', \"you've\", 'why', 'o', \"needn't\", 'once', 'mightn', \"it's\", 'very', 'nor', \"hadn't\", 'under', 'doesn', 'they', 'after', 'so', 'won', 'ain', 'by', 'here', 'ours', 'isn', 'him', 'being', 'herself', 'she', 'into', 'then', 'yourselves', 'through', 'hers', 'll', 'off', 'no', 'wouldn', 'hadn', 'whom', \"couldn't\", 'his', 'this', 'above', 'ma', 'was', \"doesn't\", 'himself', 'again', 'theirs', 'your', 'against', 'myself', 'just', \"hasn't\", 'some', 'have', 'further', \"isn't\", \"don't\", 'what', 'yours', 'will', 'did', \"you'd\", 'other', 'were', 'be', \"mightn't\", 'when', 'had', 'having', 'but', 'doing', 'aren', 'own', 'he', 'on', 'hasn', 'shan', 'about', 'down', \"haven't\", 'mustn', 'haven', 'shouldn', 'am', \"mustn't\", 'now', \"weren't\", 'you', 'them', 'has', 'couldn', 'any', 'should', 'of', 'during', 'out', 'itself', 'didn', \"you'll\", \"shouldn't\", 'while', 'themselves', 'up', 'is', 's', \"wasn't\", 'it', \"aren't\"}\n"
          ]
        }
      ],
      "source": [
        "# import the nltk stopwords \n",
        "from nltk.corpus import stopwords\n",
        " \n",
        "# Load english stopwords list\n",
        "stopwords_set=set(stopwords.words(\"english\"))\n",
        " \n",
        "print(stopwords_set)"
      ]
    },
    {
      "cell_type": "code",
      "execution_count": 9,
      "metadata": {
        "colab": {
          "base_uri": "https://localhost:8080/"
        },
        "id": "0GrCxLbs1zmp",
        "outputId": "4f79aef3-3abe-4d42-a8bc-765ce1cefe03"
      },
      "outputs": [
        {
          "output_type": "stream",
          "name": "stdout",
          "text": [
            "Tokenized Word List: ['Taj', 'Mahal', 'is', 'one', 'of', 'the', 'beautiful', 'monuments', '.', 'It', 'is', 'one', 'of', 'the', 'wonders', 'of', 'the', 'world', '.', 'It', 'was', 'built', 'by', 'Shah', 'Jahan', 'in', '1631', 'in', 'memory', 'of', 'his', 'third', 'beloved', 'wife', 'Mumtaj', 'Mahal', '.']\n",
            "Filtered Word List: ['Taj', 'Mahal', 'one', 'beautiful', 'monuments', '.', 'It', 'one', 'wonders', 'world', '.', 'It', 'built', 'Shah', 'Jahan', '1631', 'memory', 'third', 'beloved', 'wife', 'Mumtaj', 'Mahal', '.']\n"
          ]
        }
      ],
      "source": [
        "# Removing stopwords from text\n",
        "filtered_word_list=[]\n",
        "for word in tokenized_words:\n",
        "    # filter stopwords\n",
        "    if word not in stopwords_set:\n",
        "        filtered_word_list.append(word)\n",
        "\n",
        "# print tokenized words\n",
        "print(\"Tokenized Word List:\", tokenized_words)\n",
        "\n",
        "# print filtered words\n",
        "print(\"Filtered Word List:\", filtered_word_list)"
      ]
    },
    {
      "cell_type": "code",
      "execution_count": 10,
      "metadata": {
        "colab": {
          "base_uri": "https://localhost:8080/"
        },
        "id": "9UXt8xVn1zmp",
        "outputId": "25b7b31a-67fb-420e-c88c-c0416469919c"
      },
      "outputs": [
        {
          "output_type": "stream",
          "name": "stdout",
          "text": [
            "Filtered Word List: [Taj, Mahal, beautiful, monuments, ., wonders, world, ., built, Shah, Jahan, 1631, memory, beloved, wife, Mumtaj, Mahal, .]\n"
          ]
        }
      ],
      "source": [
        "# Loading english language model \n",
        "nlp = spacy.load(\"en_core_web_sm\")\n",
        " \n",
        "# text paragraph\n",
        "paragraph = \"\"\"Taj Mahal is one of the beautiful monuments. It is one of the wonders of the world. It was built by Shah Jahan in 1631 in memory of his third beloved wife Mumtaj Mahal.\"\"\"\n",
        "\n",
        "# Create nlp Object to handle linguistic annotations in a documents.\n",
        "my_doc = nlp(paragraph)\n",
        " \n",
        "# Removing stopwords from text\n",
        "filtered_token_list=[]\n",
        "for token in my_doc:\n",
        "    # filter stopwords \n",
        "    if token.is_stop==False:\n",
        "        filtered_token_list.append(token)\n",
        "        \n",
        "print(\"Filtered Word List:\",filtered_token_list)"
      ]
    },
    {
      "cell_type": "markdown",
      "metadata": {
        "id": "f5Yn-XIQ1zmp"
      },
      "source": [
        "## Stemming and Lemmatization"
      ]
    },
    {
      "cell_type": "code",
      "execution_count": 11,
      "metadata": {
        "colab": {
          "base_uri": "https://localhost:8080/"
        },
        "id": "veOsxXzU1zmq",
        "outputId": "61003b82-ac2d-4af5-aa8d-745f0a055963"
      },
      "outputs": [
        {
          "output_type": "stream",
          "name": "stdout",
          "text": [
            "Lemmatized Sample Word: cry\n",
            "Stemmed Sample Word: cri\n"
          ]
        }
      ],
      "source": [
        "# Import Lemmatizer\n",
        "from nltk.stem.wordnet import WordNetLemmatizer\n",
        "\n",
        "# Create lemmatizer object\n",
        "lemmatizer = WordNetLemmatizer()\n",
        " \n",
        "# Import Porter Stemmer\n",
        "from nltk.stem.porter import PorterStemmer\n",
        "\n",
        "# Create stemmer object\n",
        "stemmer = PorterStemmer()\n",
        "\n",
        "# take a sample word\n",
        "sample_word = \"crying\"\n",
        "\n",
        "print(\"Lemmatized Sample Word:\", lemmatizer.lemmatize(sample_word,\"v\"))\n",
        "\n",
        "print(\"Stemmed Sample Word:\", stemmer.stem(sample_word))"
      ]
    },
    {
      "cell_type": "code",
      "execution_count": 12,
      "metadata": {
        "colab": {
          "base_uri": "https://localhost:8080/"
        },
        "id": "Id0PDtjZ1zmq",
        "outputId": "893a1ea6-7c2e-4883-88d3-054df3e789fd"
      },
      "outputs": [
        {
          "output_type": "stream",
          "name": "stdout",
          "text": [
            "Original Word:  cry\n",
            "Lemmatized Word:  cry\n",
            "Original Word:  cries\n",
            "Lemmatized Word:  cry\n",
            "Original Word:  crying\n",
            "Lemmatized Word:  cry\n"
          ]
        }
      ],
      "source": [
        "# Loading english language model \n",
        "nlp = spacy.load(\"en_core_web_sm\")\n",
        " \n",
        "# Create nlp Object to handle linguistic annotations in documents.\n",
        "words = nlp(\"cry cries crying\")\n",
        " \n",
        "# Find lemmatized word\n",
        "for w in words:\n",
        "    print('Original Word: ', w.text)\n",
        "    print('Lemmatized Word: ',w.lemma_)"
      ]
    },
    {
      "cell_type": "markdown",
      "metadata": {
        "id": "QxenE1_A1zmq"
      },
      "source": [
        "## PoS Tagging"
      ]
    },
    {
      "cell_type": "code",
      "execution_count": 13,
      "metadata": {
        "colab": {
          "base_uri": "https://localhost:8080/"
        },
        "id": "rvCoT9mw1zmq",
        "outputId": "34c4b340-c2d9-44fa-d442-113d39f35192"
      },
      "outputs": [
        {
          "output_type": "stream",
          "name": "stdout",
          "text": [
            "[('Taj', 'NNP'), ('Mahal', 'NNP'), ('is', 'VBZ'), ('one', 'CD'), ('of', 'IN'), ('the', 'DT'), ('beautiful', 'JJ'), ('monument', 'NN'), ('.', '.')]\n"
          ]
        }
      ],
      "source": [
        "# import Word Tokenizer and Pos Tagger\n",
        "from nltk.tokenize import word_tokenize\n",
        "from nltk import pos_tag\n",
        " \n",
        "# Sample sentence\n",
        "sentence = \"Taj Mahal is one of the beautiful monument.\"\n",
        " \n",
        "# Tokenize the sentence\n",
        "sent_tokens = word_tokenize(sentence)\n",
        " \n",
        "# Create PoS tags\n",
        "sent_pos = pos_tag(sent_tokens)\n",
        " \n",
        "# Print tokens with PoS\n",
        "print(sent_pos)"
      ]
    },
    {
      "cell_type": "code",
      "execution_count": 14,
      "metadata": {
        "colab": {
          "base_uri": "https://localhost:8080/"
        },
        "id": "DW9X8Iuv1zmq",
        "outputId": "40f3f945-e7ee-4c33-f017-836917545599"
      },
      "outputs": [
        {
          "output_type": "stream",
          "name": "stdout",
          "text": [
            "Taj PROPN\n",
            "Mahal PROPN\n",
            "is AUX\n",
            "one NUM\n",
            "of ADP\n",
            "the DET\n",
            "beautiful ADJ\n",
            "monument NOUN\n",
            ". PUNCT\n"
          ]
        }
      ],
      "source": [
        "# Loading small english language model \n",
        "nlp = spacy.load(\"en_core_web_sm\")\n",
        "\n",
        "# Create nlp Object to handle linguistic annotations in a documents.\n",
        "sentence = nlp(u\"Taj Mahal is one of the beautiful monument.\")\n",
        " \n",
        "for token in sentence:\n",
        "    print(token.text, token.pos_)"
      ]
    },
    {
      "cell_type": "markdown",
      "metadata": {
        "id": "5HvnsV5k1zmq"
      },
      "source": [
        "## Entity Recognition"
      ]
    },
    {
      "cell_type": "code",
      "execution_count": 15,
      "metadata": {
        "colab": {
          "base_uri": "https://localhost:8080/"
        },
        "id": "FjmhRWq-1zmq",
        "outputId": "85d2d829-b95c-40ae-9fcb-cc9e55fa6ace"
      },
      "outputs": [
        {
          "output_type": "stream",
          "name": "stdout",
          "text": [
            "[('Taj Mahal', 'PERSON'), ('Shah Jahan', 'PERSON'), ('1631', 'DATE'), ('third', 'ORDINAL'), ('Mumtaj Mahal', 'PERSON')]\n"
          ]
        }
      ],
      "source": [
        "# Load English model for tokenizer, tagger, parser, and NER \n",
        "nlp = spacy.load('en_core_web_sm') \n",
        " \n",
        "# Sample paragraph\n",
        "paragraph = \"\"\"Taj Mahal is one of the beautiful monuments. It is one of the wonders of the world. It was built by Shah Jahan in 1631 in memory of his third beloved wife Mumtaj Mahal.\"\"\"\n",
        " \n",
        "# Create nlp Object to handle linguistic annotations in documents.\n",
        "docs=nlp(paragraph)\n",
        " \n",
        "entities=[(i.text, i.label_) for i in docs.ents]\n",
        "print(entities)"
      ]
    },
    {
      "cell_type": "code",
      "execution_count": 16,
      "metadata": {
        "colab": {
          "base_uri": "https://localhost:8080/",
          "height": 87
        },
        "id": "0CR6cxSp1QEV",
        "outputId": "5e61babc-6057-4a81-879d-c8339297b6b5"
      },
      "outputs": [
        {
          "output_type": "display_data",
          "data": {
            "text/plain": [
              "<IPython.core.display.HTML object>"
            ],
            "text/html": [
              "<span class=\"tex2jax_ignore\"><div class=\"entities\" style=\"line-height: 2.5; direction: ltr\">\n",
              "<mark class=\"entity\" style=\"background: #aa9cfc; padding: 0.45em 0.6em; margin: 0 0.25em; line-height: 1; border-radius: 0.35em;\">\n",
              "    Taj Mahal\n",
              "    <span style=\"font-size: 0.8em; font-weight: bold; line-height: 1; border-radius: 0.35em; vertical-align: middle; margin-left: 0.5rem\">PERSON</span>\n",
              "</mark>\n",
              " is one of the beautiful monuments. It is one of the wonders of the world. It was built by \n",
              "<mark class=\"entity\" style=\"background: #aa9cfc; padding: 0.45em 0.6em; margin: 0 0.25em; line-height: 1; border-radius: 0.35em;\">\n",
              "    Shah Jahan\n",
              "    <span style=\"font-size: 0.8em; font-weight: bold; line-height: 1; border-radius: 0.35em; vertical-align: middle; margin-left: 0.5rem\">PERSON</span>\n",
              "</mark>\n",
              " in \n",
              "<mark class=\"entity\" style=\"background: #bfe1d9; padding: 0.45em 0.6em; margin: 0 0.25em; line-height: 1; border-radius: 0.35em;\">\n",
              "    1631\n",
              "    <span style=\"font-size: 0.8em; font-weight: bold; line-height: 1; border-radius: 0.35em; vertical-align: middle; margin-left: 0.5rem\">DATE</span>\n",
              "</mark>\n",
              " in memory of his \n",
              "<mark class=\"entity\" style=\"background: #e4e7d2; padding: 0.45em 0.6em; margin: 0 0.25em; line-height: 1; border-radius: 0.35em;\">\n",
              "    third\n",
              "    <span style=\"font-size: 0.8em; font-weight: bold; line-height: 1; border-radius: 0.35em; vertical-align: middle; margin-left: 0.5rem\">ORDINAL</span>\n",
              "</mark>\n",
              " beloved wife \n",
              "<mark class=\"entity\" style=\"background: #aa9cfc; padding: 0.45em 0.6em; margin: 0 0.25em; line-height: 1; border-radius: 0.35em;\">\n",
              "    Mumtaj Mahal\n",
              "    <span style=\"font-size: 0.8em; font-weight: bold; line-height: 1; border-radius: 0.35em; vertical-align: middle; margin-left: 0.5rem\">PERSON</span>\n",
              "</mark>\n",
              ".</div></span>"
            ]
          },
          "metadata": {}
        }
      ],
      "source": [
        "# Import display for visualizing the Entities\n",
        "from spacy import displacy\n",
        " # Visualize the entities using render function\n",
        "displacy.render(docs, style = \"ent\",jupyter = True)"
      ]
    },
    {
      "cell_type": "markdown",
      "metadata": {
        "id": "q2H49yd71zmq"
      },
      "source": [
        "## Dependency Parsing"
      ]
    },
    {
      "cell_type": "code",
      "execution_count": 17,
      "metadata": {
        "colab": {
          "base_uri": "https://localhost:8080/",
          "height": 382
        },
        "id": "83iL1YY21zmr",
        "outputId": "b19593a2-710e-4050-d418-83d02e7f584f"
      },
      "outputs": [
        {
          "output_type": "display_data",
          "data": {
            "text/plain": [
              "<IPython.core.display.HTML object>"
            ],
            "text/html": [
              "<span class=\"tex2jax_ignore\"><svg xmlns=\"http://www.w3.org/2000/svg\" xmlns:xlink=\"http://www.w3.org/1999/xlink\" xml:lang=\"en\" id=\"ecec1cbdc7bb4fd68cb2173856c7e3f3-0\" class=\"displacy\" width=\"1250\" height=\"362.0\" direction=\"ltr\" style=\"max-width: none; height: 362.0px; color: #000000; background: #ffffff; font-family: Arial; direction: ltr\">\n",
              "<text class=\"displacy-token\" fill=\"currentColor\" text-anchor=\"middle\" y=\"272.0\">\n",
              "    <tspan class=\"displacy-word\" fill=\"currentColor\" x=\"50\">Taj</tspan>\n",
              "    <tspan class=\"displacy-tag\" dy=\"2em\" fill=\"currentColor\" x=\"50\">PROPN</tspan>\n",
              "</text>\n",
              "\n",
              "<text class=\"displacy-token\" fill=\"currentColor\" text-anchor=\"middle\" y=\"272.0\">\n",
              "    <tspan class=\"displacy-word\" fill=\"currentColor\" x=\"200\">Mahal</tspan>\n",
              "    <tspan class=\"displacy-tag\" dy=\"2em\" fill=\"currentColor\" x=\"200\">PROPN</tspan>\n",
              "</text>\n",
              "\n",
              "<text class=\"displacy-token\" fill=\"currentColor\" text-anchor=\"middle\" y=\"272.0\">\n",
              "    <tspan class=\"displacy-word\" fill=\"currentColor\" x=\"350\">is</tspan>\n",
              "    <tspan class=\"displacy-tag\" dy=\"2em\" fill=\"currentColor\" x=\"350\">AUX</tspan>\n",
              "</text>\n",
              "\n",
              "<text class=\"displacy-token\" fill=\"currentColor\" text-anchor=\"middle\" y=\"272.0\">\n",
              "    <tspan class=\"displacy-word\" fill=\"currentColor\" x=\"500\">one</tspan>\n",
              "    <tspan class=\"displacy-tag\" dy=\"2em\" fill=\"currentColor\" x=\"500\">NUM</tspan>\n",
              "</text>\n",
              "\n",
              "<text class=\"displacy-token\" fill=\"currentColor\" text-anchor=\"middle\" y=\"272.0\">\n",
              "    <tspan class=\"displacy-word\" fill=\"currentColor\" x=\"650\">of</tspan>\n",
              "    <tspan class=\"displacy-tag\" dy=\"2em\" fill=\"currentColor\" x=\"650\">ADP</tspan>\n",
              "</text>\n",
              "\n",
              "<text class=\"displacy-token\" fill=\"currentColor\" text-anchor=\"middle\" y=\"272.0\">\n",
              "    <tspan class=\"displacy-word\" fill=\"currentColor\" x=\"800\">the</tspan>\n",
              "    <tspan class=\"displacy-tag\" dy=\"2em\" fill=\"currentColor\" x=\"800\">DET</tspan>\n",
              "</text>\n",
              "\n",
              "<text class=\"displacy-token\" fill=\"currentColor\" text-anchor=\"middle\" y=\"272.0\">\n",
              "    <tspan class=\"displacy-word\" fill=\"currentColor\" x=\"950\">beautiful</tspan>\n",
              "    <tspan class=\"displacy-tag\" dy=\"2em\" fill=\"currentColor\" x=\"950\">ADJ</tspan>\n",
              "</text>\n",
              "\n",
              "<text class=\"displacy-token\" fill=\"currentColor\" text-anchor=\"middle\" y=\"272.0\">\n",
              "    <tspan class=\"displacy-word\" fill=\"currentColor\" x=\"1100\">monument.</tspan>\n",
              "    <tspan class=\"displacy-tag\" dy=\"2em\" fill=\"currentColor\" x=\"1100\">NOUN</tspan>\n",
              "</text>\n",
              "\n",
              "<g class=\"displacy-arrow\">\n",
              "    <path class=\"displacy-arc\" id=\"arrow-ecec1cbdc7bb4fd68cb2173856c7e3f3-0-0\" stroke-width=\"2px\" d=\"M70,227.0 C70,152.0 190.0,152.0 190.0,227.0\" fill=\"none\" stroke=\"currentColor\"/>\n",
              "    <text dy=\"1.25em\" style=\"font-size: 0.8em; letter-spacing: 1px\">\n",
              "        <textPath xlink:href=\"#arrow-ecec1cbdc7bb4fd68cb2173856c7e3f3-0-0\" class=\"displacy-label\" startOffset=\"50%\" side=\"left\" fill=\"currentColor\" text-anchor=\"middle\">compound</textPath>\n",
              "    </text>\n",
              "    <path class=\"displacy-arrowhead\" d=\"M70,229.0 L62,217.0 78,217.0\" fill=\"currentColor\"/>\n",
              "</g>\n",
              "\n",
              "<g class=\"displacy-arrow\">\n",
              "    <path class=\"displacy-arc\" id=\"arrow-ecec1cbdc7bb4fd68cb2173856c7e3f3-0-1\" stroke-width=\"2px\" d=\"M220,227.0 C220,152.0 340.0,152.0 340.0,227.0\" fill=\"none\" stroke=\"currentColor\"/>\n",
              "    <text dy=\"1.25em\" style=\"font-size: 0.8em; letter-spacing: 1px\">\n",
              "        <textPath xlink:href=\"#arrow-ecec1cbdc7bb4fd68cb2173856c7e3f3-0-1\" class=\"displacy-label\" startOffset=\"50%\" side=\"left\" fill=\"currentColor\" text-anchor=\"middle\">nsubj</textPath>\n",
              "    </text>\n",
              "    <path class=\"displacy-arrowhead\" d=\"M220,229.0 L212,217.0 228,217.0\" fill=\"currentColor\"/>\n",
              "</g>\n",
              "\n",
              "<g class=\"displacy-arrow\">\n",
              "    <path class=\"displacy-arc\" id=\"arrow-ecec1cbdc7bb4fd68cb2173856c7e3f3-0-2\" stroke-width=\"2px\" d=\"M370,227.0 C370,152.0 490.0,152.0 490.0,227.0\" fill=\"none\" stroke=\"currentColor\"/>\n",
              "    <text dy=\"1.25em\" style=\"font-size: 0.8em; letter-spacing: 1px\">\n",
              "        <textPath xlink:href=\"#arrow-ecec1cbdc7bb4fd68cb2173856c7e3f3-0-2\" class=\"displacy-label\" startOffset=\"50%\" side=\"left\" fill=\"currentColor\" text-anchor=\"middle\">attr</textPath>\n",
              "    </text>\n",
              "    <path class=\"displacy-arrowhead\" d=\"M490.0,229.0 L498.0,217.0 482.0,217.0\" fill=\"currentColor\"/>\n",
              "</g>\n",
              "\n",
              "<g class=\"displacy-arrow\">\n",
              "    <path class=\"displacy-arc\" id=\"arrow-ecec1cbdc7bb4fd68cb2173856c7e3f3-0-3\" stroke-width=\"2px\" d=\"M520,227.0 C520,152.0 640.0,152.0 640.0,227.0\" fill=\"none\" stroke=\"currentColor\"/>\n",
              "    <text dy=\"1.25em\" style=\"font-size: 0.8em; letter-spacing: 1px\">\n",
              "        <textPath xlink:href=\"#arrow-ecec1cbdc7bb4fd68cb2173856c7e3f3-0-3\" class=\"displacy-label\" startOffset=\"50%\" side=\"left\" fill=\"currentColor\" text-anchor=\"middle\">prep</textPath>\n",
              "    </text>\n",
              "    <path class=\"displacy-arrowhead\" d=\"M640.0,229.0 L648.0,217.0 632.0,217.0\" fill=\"currentColor\"/>\n",
              "</g>\n",
              "\n",
              "<g class=\"displacy-arrow\">\n",
              "    <path class=\"displacy-arc\" id=\"arrow-ecec1cbdc7bb4fd68cb2173856c7e3f3-0-4\" stroke-width=\"2px\" d=\"M820,227.0 C820,77.0 1095.0,77.0 1095.0,227.0\" fill=\"none\" stroke=\"currentColor\"/>\n",
              "    <text dy=\"1.25em\" style=\"font-size: 0.8em; letter-spacing: 1px\">\n",
              "        <textPath xlink:href=\"#arrow-ecec1cbdc7bb4fd68cb2173856c7e3f3-0-4\" class=\"displacy-label\" startOffset=\"50%\" side=\"left\" fill=\"currentColor\" text-anchor=\"middle\">det</textPath>\n",
              "    </text>\n",
              "    <path class=\"displacy-arrowhead\" d=\"M820,229.0 L812,217.0 828,217.0\" fill=\"currentColor\"/>\n",
              "</g>\n",
              "\n",
              "<g class=\"displacy-arrow\">\n",
              "    <path class=\"displacy-arc\" id=\"arrow-ecec1cbdc7bb4fd68cb2173856c7e3f3-0-5\" stroke-width=\"2px\" d=\"M970,227.0 C970,152.0 1090.0,152.0 1090.0,227.0\" fill=\"none\" stroke=\"currentColor\"/>\n",
              "    <text dy=\"1.25em\" style=\"font-size: 0.8em; letter-spacing: 1px\">\n",
              "        <textPath xlink:href=\"#arrow-ecec1cbdc7bb4fd68cb2173856c7e3f3-0-5\" class=\"displacy-label\" startOffset=\"50%\" side=\"left\" fill=\"currentColor\" text-anchor=\"middle\">amod</textPath>\n",
              "    </text>\n",
              "    <path class=\"displacy-arrowhead\" d=\"M970,229.0 L962,217.0 978,217.0\" fill=\"currentColor\"/>\n",
              "</g>\n",
              "\n",
              "<g class=\"displacy-arrow\">\n",
              "    <path class=\"displacy-arc\" id=\"arrow-ecec1cbdc7bb4fd68cb2173856c7e3f3-0-6\" stroke-width=\"2px\" d=\"M670,227.0 C670,2.0 1100.0,2.0 1100.0,227.0\" fill=\"none\" stroke=\"currentColor\"/>\n",
              "    <text dy=\"1.25em\" style=\"font-size: 0.8em; letter-spacing: 1px\">\n",
              "        <textPath xlink:href=\"#arrow-ecec1cbdc7bb4fd68cb2173856c7e3f3-0-6\" class=\"displacy-label\" startOffset=\"50%\" side=\"left\" fill=\"currentColor\" text-anchor=\"middle\">pobj</textPath>\n",
              "    </text>\n",
              "    <path class=\"displacy-arrowhead\" d=\"M1100.0,229.0 L1108.0,217.0 1092.0,217.0\" fill=\"currentColor\"/>\n",
              "</g>\n",
              "</svg></span>"
            ]
          },
          "metadata": {}
        }
      ],
      "source": [
        "# Load English model for tokenizer, tagger, parser, and NER \n",
        "nlp = spacy.load('en_core_web_sm') \n",
        " \n",
        "# Sample sentence\n",
        "sentence=\"Taj Mahal is one of the beautiful monument.\"\n",
        "\n",
        "# Create nlp Object to handle linguistic annotations in a documents.\n",
        "docs=nlp(sentence)\n",
        " \n",
        "# Visualize the  using render function\n",
        "displacy.render(docs, style=\"dep\", jupyter= True, options={'distance': 150})"
      ]
    },
    {
      "cell_type": "markdown",
      "metadata": {
        "id": "Xy-xuSZH1zmr"
      },
      "source": [
        "## WordCloud"
      ]
    },
    {
      "cell_type": "code",
      "execution_count": 18,
      "metadata": {
        "colab": {
          "base_uri": "https://localhost:8080/",
          "height": 357
        },
        "id": "7iBLmtMA1zmr",
        "outputId": "154507d0-4578-4fef-f901-b3f13fe758f4"
      },
      "outputs": [
        {
          "output_type": "display_data",
          "data": {
            "text/plain": [
              "<Figure size 576x432 with 1 Axes>"
            ],
            "image/png": "[encoded data removed]"
          },
          "metadata": {
            "needs_background": "light"
          }
        }
      ],
      "source": [
        "# importing all necessary modules \n",
        "from wordcloud import WordCloud\n",
        "from wordcloud import STOPWORDS\n",
        "import matplotlib.pyplot as plt\n",
        " \n",
        "stopword_list = set(STOPWORDS) \n",
        " \n",
        "paragraph=\"\"\"Taj Mahal is one of the beautiful monuments. It is one of the wonders of the world. It was built by Shah Jahan in 1631 in memory of his third beloved wife Mumtaj Mahal.\"\"\"\n",
        " \n",
        "word_cloud = WordCloud(width = 550, height = 550, \n",
        "                       background_color ='white', \n",
        "                       stopwords = stopword_list, \n",
        "                       min_font_size = 10).generate(paragraph) \n",
        "  \n",
        "# Visualize the WordCloud Plot\n",
        "\n",
        "# Set wordcloud figure size\n",
        "plt.figure(figsize = (8, 6)) \n",
        "# Show image\n",
        "plt.imshow(word_cloud) \n",
        "# Remove Axis\n",
        "plt.axis(\"off\")  \n",
        "# show plot\n",
        "plt.show() "
      ]
    },
    {
      "cell_type": "markdown",
      "metadata": {
        "id": "CVv92oPl1zmr"
      },
      "source": [
        "## Sentiment Analysis using Text Classification\n",
        "### Classification using Bag of Words (or TF)\n",
        "## Load the Dataset"
      ]
    },
    {
      "cell_type": "code",
      "execution_count": 19,
      "metadata": {
        "colab": {
          "base_uri": "https://localhost:8080/",
          "height": 206
        },
        "id": "XGG2NDL_1zmr",
        "outputId": "de40ad7e-7ea3-40d9-ccbb-d83f755594b4"
      },
      "outputs": [
        {
          "output_type": "execute_result",
          "data": {
            "text/plain": [
              "   rating       date         variation  \\\n",
              "0       5  31-Jul-18  Charcoal Fabric    \n",
              "1       5  31-Jul-18  Charcoal Fabric    \n",
              "2       4  31-Jul-18    Walnut Finish    \n",
              "3       5  31-Jul-18  Charcoal Fabric    \n",
              "4       5  31-Jul-18  Charcoal Fabric    \n",
              "\n",
              "                                    verified_reviews  feedback  \n",
              "0                                      Love my Echo!         1  \n",
              "1                                          Loved it!         1  \n",
              "2  Sometimes while playing a game, you can answer...         1  \n",
              "3  I have had a lot of fun with this thing. My 4 ...         1  \n",
              "4                                              Music         1  "
            ],
            "text/html": [
              "\n",
              "  <div id=\"df-86777872-6dff-49eb-895b-a212051afbcc\">\n",
              "    <div class=\"colab-df-container\">\n",
              "      <div>\n",
              "<style scoped>\n",
              "    .dataframe tbody tr th:only-of-type {\n",
              "        vertical-align: middle;\n",
              "    }\n",
              "\n",
              "    .dataframe tbody tr th {\n",
              "        vertical-align: top;\n",
              "    }\n",
              "\n",
              "    .dataframe thead th {\n",
              "        text-align: right;\n",
              "    }\n",
              "</style>\n",
              "<table border=\"1\" class=\"dataframe\">\n",
              "  <thead>\n",
              "    <tr style=\"text-align: right;\">\n",
              "      <th></th>\n",
              "      <th>rating</th>\n",
              "      <th>date</th>\n",
              "      <th>variation</th>\n",
              "      <th>verified_reviews</th>\n",
              "      <th>feedback</th>\n",
              "    </tr>\n",
              "  </thead>\n",
              "  <tbody>\n",
              "    <tr>\n",
              "      <th>0</th>\n",
              "      <td>5</td>\n",
              "      <td>31-Jul-18</td>\n",
              "      <td>Charcoal Fabric</td>\n",
              "      <td>Love my Echo!</td>\n",
              "      <td>1</td>\n",
              "    </tr>\n",
              "    <tr>\n",
              "      <th>1</th>\n",
              "      <td>5</td>\n",
              "      <td>31-Jul-18</td>\n",
              "      <td>Charcoal Fabric</td>\n",
              "      <td>Loved it!</td>\n",
              "      <td>1</td>\n",
              "    </tr>\n",
              "    <tr>\n",
              "      <th>2</th>\n",
              "      <td>4</td>\n",
              "      <td>31-Jul-18</td>\n",
              "      <td>Walnut Finish</td>\n",
              "      <td>Sometimes while playing a game, you can answer...</td>\n",
              "      <td>1</td>\n",
              "    </tr>\n",
              "    <tr>\n",
              "      <th>3</th>\n",
              "      <td>5</td>\n",
              "      <td>31-Jul-18</td>\n",
              "      <td>Charcoal Fabric</td>\n",
              "      <td>I have had a lot of fun with this thing. My 4 ...</td>\n",
              "      <td>1</td>\n",
              "    </tr>\n",
              "    <tr>\n",
              "      <th>4</th>\n",
              "      <td>5</td>\n",
              "      <td>31-Jul-18</td>\n",
              "      <td>Charcoal Fabric</td>\n",
              "      <td>Music</td>\n",
              "      <td>1</td>\n",
              "    </tr>\n",
              "  </tbody>\n",
              "</table>\n",
              "</div>\n",
              "      <button class=\"colab-df-convert\" onclick=\"convertToInteractive('df-86777872-6dff-49eb-895b-a212051afbcc')\"\n",
              "              title=\"Convert this dataframe to an interactive table.\"\n",
              "              style=\"display:none;\">\n",
              "        \n",
              "  <svg xmlns=\"http://www.w3.org/2000/svg\" height=\"24px\"viewBox=\"0 0 24 24\"\n",
              "       width=\"24px\">\n",
              "    <path d=\"M0 0h24v24H0V0z\" fill=\"none\"/>\n",
              "    <path d=\"M18.56 5.44l.94 2.06.94-2.06 2.06-.94-2.06-.94-.94-2.06-.94 2.06-2.06.94zm-11 1L8.5 8.5l.94-2.06 2.06-.94-2.06-.94L8.5 2.5l-.94 2.06-2.06.94zm10 10l.94 2.06.94-2.06 2.06-.94-2.06-.94-.94-2.06-.94 2.06-2.06.94z\"/><path d=\"M17.41 7.96l-1.37-1.37c-.4-.4-.92-.59-1.43-.59-.52 0-1.04.2-1.43.59L10.3 9.45l-7.72 7.72c-.78.78-.78 2.05 0 2.83L4 21.41c.39.39.9.59 1.41.59.51 0 1.02-.2 1.41-.59l7.78-7.78 2.81-2.81c.8-.78.8-2.07 0-2.86zM5.41 20L4 18.59l7.72-7.72 1.47 1.35L5.41 20z\"/>\n",
              "  </svg>\n",
              "      </button>\n",
              "      \n",
              "  <style>\n",
              "    .colab-df-container {\n",
              "      display:flex;\n",
              "      flex-wrap:wrap;\n",
              "      gap: 12px;\n",
              "    }\n",
              "\n",
              "    .colab-df-convert {\n",
              "      background-color: #E8F0FE;\n",
              "      border: none;\n",
              "      border-radius: 50%;\n",
              "      cursor: pointer;\n",
              "      display: none;\n",
              "      fill: #1967D2;\n",
              "      height: 32px;\n",
              "      padding: 0 0 0 0;\n",
              "      width: 32px;\n",
              "    }\n",
              "\n",
              "    .colab-df-convert:hover {\n",
              "      background-color: #E2EBFA;\n",
              "      box-shadow: 0px 1px 2px rgba(60, 64, 67, 0.3), 0px 1px 3px 1px rgba(60, 64, 67, 0.15);\n",
              "      fill: #174EA6;\n",
              "    }\n",
              "\n",
              "    [theme=dark] .colab-df-convert {\n",
              "      background-color: #3B4455;\n",
              "      fill: #D2E3FC;\n",
              "    }\n",
              "\n",
              "    [theme=dark] .colab-df-convert:hover {\n",
              "      background-color: #434B5C;\n",
              "      box-shadow: 0px 1px 3px 1px rgba(0, 0, 0, 0.15);\n",
              "      filter: drop-shadow(0px 1px 2px rgba(0, 0, 0, 0.3));\n",
              "      fill: #FFFFFF;\n",
              "    }\n",
              "  </style>\n",
              "\n",
              "      <script>\n",
              "        const buttonEl =\n",
              "          document.querySelector('#df-86777872-6dff-49eb-895b-a212051afbcc button.colab-df-convert');\n",
              "        buttonEl.style.display =\n",
              "          google.colab.kernel.accessAllowed ? 'block' : 'none';\n",
              "\n",
              "        async function convertToInteractive(key) {\n",
              "          const element = document.querySelector('#df-86777872-6dff-49eb-895b-a212051afbcc');\n",
              "          const dataTable =\n",
              "            await google.colab.kernel.invokeFunction('convertToInteractive',\n",
              "                                                     [key], {});\n",
              "          if (!dataTable) return;\n",
              "\n",
              "          const docLinkHtml = 'Like what you see? Visit the ' +\n",
              "            '<a target=\"_blank\" href=https://colab.research.google.com/notebooks/data_table.ipynb>data table notebook</a>'\n",
              "            + ' to learn more about interactive tables.';\n",
              "          element.innerHTML = '';\n",
              "          dataTable['output_type'] = 'display_data';\n",
              "          await google.colab.output.renderOutput(dataTable, element);\n",
              "          const docLink = document.createElement('div');\n",
              "          docLink.innerHTML = docLinkHtml;\n",
              "          element.appendChild(docLink);\n",
              "        }\n",
              "      </script>\n",
              "    </div>\n",
              "  </div>\n",
              "  "
            ]
          },
          "metadata": {},
          "execution_count": 19
        }
      ],
      "source": [
        "# Import libraries\n",
        "import pandas as pd\n",
        "\n",
        "# read the dataset\n",
        "copus_url = 'https://raw.githubusercontent.com/sharmaroshan/Amazon-Alexa-Reviews/master/amazon_alexa.tsv'\n",
        "df=pd.read_csv(copus_url, sep='\\t')\n",
        "    \n",
        "# Show top 5-records\n",
        "df.head()"
      ]
    },
    {
      "cell_type": "markdown",
      "metadata": {
        "id": "0NSOzuOF1zmr"
      },
      "source": [
        "#### Explore the dataset"
      ]
    },
    {
      "cell_type": "code",
      "execution_count": 20,
      "metadata": {
        "colab": {
          "base_uri": "https://localhost:8080/",
          "height": 281
        },
        "id": "InFRWbIz1zmr",
        "outputId": "1498ec4a-0abb-4e7d-f017-ccf260df30e5"
      },
      "outputs": [
        {
          "output_type": "display_data",
          "data": {
            "text/plain": [
              "<Figure size 432x288 with 1 Axes>"
            ],
            "image/png": "[encoded data removed]"
          },
          "metadata": {
            "needs_background": "light"
          }
        }
      ],
      "source": [
        "# Import seaborn\n",
        "import seaborn as sns\n",
        "import matplotlib.pyplot as plt\n",
        " \n",
        "# Count plot\n",
        "sns.countplot(x='feedback', data=df)\n",
        " \n",
        "# Set X-axis and Y-axis labels\n",
        "plt.xlabel('Sentiment Score')\n",
        "plt.ylabel('Number of Records')\n",
        " \n",
        "# Show the plot using show() function\n",
        "plt.show()\n"
      ]
    },
    {
      "cell_type": "markdown",
      "metadata": {
        "id": "IvF42p7b1zmr"
      },
      "source": [
        "#### Feature Generation using CountVectorizer "
      ]
    },
    {
      "cell_type": "code",
      "execution_count": 21,
      "metadata": {
        "colab": {
          "base_uri": "https://localhost:8080/"
        },
        "id": "d5vsIaRz1zmr",
        "outputId": "a6a3294c-ae6f-4a33-8847-113eeb181727"
      },
      "outputs": [
        {
          "output_type": "stream",
          "name": "stderr",
          "text": [
            "/usr/local/lib/python3.8/dist-packages/sklearn/feature_extraction/text.py:528: UserWarning: The parameter 'token_pattern' will not be used since 'tokenizer' is not None'\n",
            "  warnings.warn(\n"
          ]
        }
      ],
      "source": [
        "# Import CountVectorizer and RegexTokenizer\n",
        "from nltk.tokenize import RegexpTokenizer\n",
        "from sklearn.feature_extraction.text import CountVectorizer\n",
        "\n",
        " \n",
        "# Create Regex tokenizer for removing special symbols and numeric values \n",
        "regex_tokenizer = RegexpTokenizer(r'[a-zA-Z]+')\n",
        " \n",
        "# Initialize CountVectorizer object\n",
        "count_vectorizer = CountVectorizer(lowercase=True, \n",
        "                     stop_words='english', \n",
        "                     ngram_range = (1,1), \n",
        "                     tokenizer = regex_tokenizer.tokenize)\n",
        " \n",
        "# Fit and transform the dataset\n",
        "count_vectors = count_vectorizer.fit_transform(df['verified_reviews'])"
      ]
    },
    {
      "cell_type": "markdown",
      "metadata": {
        "id": "17JCjcdh1zmr"
      },
      "source": [
        "#### Split train and test set"
      ]
    },
    {
      "cell_type": "code",
      "execution_count": 22,
      "metadata": {
        "id": "fKmG3rjW1zms"
      },
      "outputs": [],
      "source": [
        "# Import train_test_split\n",
        "from sklearn.model_selection import train_test_split\n",
        " \n",
        "# Partition data into training and testing set \n",
        "from sklearn.model_selection import train_test_split\n",
        "feature_train, feature_test, target_train, target_test = train_test_split(\n",
        "    count_vectors, df['feedback'], test_size=0.3, random_state=1)"
      ]
    },
    {
      "cell_type": "markdown",
      "metadata": {
        "id": "IL34MmhZ1zms"
      },
      "source": [
        "#### Classification Model Building using Logistic Regression"
      ]
    },
    {
      "cell_type": "code",
      "execution_count": 23,
      "metadata": {
        "id": "Ko12mlSl1zms"
      },
      "outputs": [],
      "source": [
        "# import logistic regression scikit-learn model\n",
        "from sklearn.linear_model import LogisticRegression\n",
        " \n",
        "# instantiate the model\n",
        "logreg = LogisticRegression(solver='lbfgs')\n",
        " \n",
        "# fit the model with data\n",
        "logreg.fit(feature_train,target_train)\n",
        " \n",
        "# Forecast the target variable for given test dataset\n",
        "predictions = logreg.predict(feature_test)"
      ]
    },
    {
      "cell_type": "markdown",
      "metadata": {
        "id": "a_wIcYtI1zms"
      },
      "source": [
        "#### Evaluate the Classification Model"
      ]
    },
    {
      "cell_type": "code",
      "execution_count": 24,
      "metadata": {
        "colab": {
          "base_uri": "https://localhost:8080/"
        },
        "id": "jt2yFf8a1zms",
        "scrolled": true,
        "outputId": "c076cf5e-3a2a-493d-a957-8ac4178d40bd"
      },
      "outputs": [
        {
          "output_type": "stream",
          "name": "stdout",
          "text": [
            "Logistic Regression Model Accuracy: 0.9428571428571428\n",
            "Logistic Regression Model Precision: 0.952433628318584\n",
            "Logistic Regression Model Recall: 0.9873853211009175\n",
            "Logistic Regression Model F1-Score: 0.9695945945945945\n"
          ]
        }
      ],
      "source": [
        "# Import metrics module for performance evaluation\n",
        "from sklearn.metrics import accuracy_score\n",
        "from sklearn.metrics import precision_score\n",
        "from sklearn.metrics import recall_score\n",
        "from sklearn.metrics import f1_score\n",
        "\n",
        "# Assess model performance using accuracy measure\n",
        "print(\"Logistic Regression Model Accuracy:\",accuracy_score(target_test, predictions))\n",
        "# Calculate model precision\n",
        "print(\"Logistic Regression Model Precision:\",precision_score(target_test, predictions))\n",
        "# Calculate model recall\n",
        "print(\"Logistic Regression Model Recall:\",recall_score(target_test, predictions))\n",
        "# Calculate model f1 score\n",
        "print(\"Logistic Regression Model F1-Score:\",f1_score(target_test, predictions))"
      ]
    },
    {
      "cell_type": "markdown",
      "metadata": {
        "id": "o9MkTVPo1zms"
      },
      "source": [
        "### Classification using TF-IDF"
      ]
    },
    {
      "cell_type": "code",
      "execution_count": 25,
      "metadata": {
        "colab": {
          "base_uri": "https://localhost:8080/"
        },
        "id": "737UdMvu1zms",
        "outputId": "108b98d4-0d4a-46ab-ea2f-47dae74a7ec7"
      },
      "outputs": [
        {
          "output_type": "stream",
          "name": "stderr",
          "text": [
            "/usr/local/lib/python3.8/dist-packages/sklearn/feature_extraction/text.py:528: UserWarning: The parameter 'token_pattern' will not be used since 'tokenizer' is not None'\n",
            "  warnings.warn(\n"
          ]
        }
      ],
      "source": [
        "# Import TfidfVectorizer and RegexTokenizer\n",
        "from nltk.tokenize import RegexpTokenizer\n",
        "from sklearn.feature_extraction.text import TfidfVectorizer\n",
        "\n",
        "# Create Regex tokenizer for removing special symbols and numeric values \n",
        "regex_tokenizer = RegexpTokenizer(r'[a-zA-Z]+')\n",
        " \n",
        "# Initialize TfidfVectorizer object\n",
        "tfidf = TfidfVectorizer(lowercase=True,stop_words='english',ngram_range = (1,1),tokenizer = regex_tokenizer.tokenize)\n",
        " \n",
        "# Fit and transform the dataset\n",
        "text_tfidf= tfidf.fit_transform(df['verified_reviews'])"
      ]
    },
    {
      "cell_type": "code",
      "execution_count": 26,
      "metadata": {
        "id": "9JtyZbrs1zms"
      },
      "outputs": [],
      "source": [
        "# Import train_test_split\n",
        "from sklearn.model_selection import train_test_split\n",
        " \n",
        "# Partition data into training and testing set \n",
        "from sklearn.model_selection import train_test_split\n",
        "feature_train, feature_test, target_train, target_test = train_test_split(\n",
        "    text_tfidf, df['feedback'], test_size=0.3, random_state=1)"
      ]
    },
    {
      "cell_type": "code",
      "execution_count": 27,
      "metadata": {
        "id": "ylg9tJu21zms"
      },
      "outputs": [],
      "source": [
        "# import logistic regression scikit-learn model\n",
        "from sklearn.linear_model import LogisticRegression\n",
        " \n",
        "# instantiate the model\n",
        "logreg = LogisticRegression(solver='lbfgs')\n",
        " \n",
        "# fit the model with data\n",
        "logreg.fit(feature_train,target_train)\n",
        " \n",
        "# Forecast the target variable for given test dataset\n",
        "predictions = logreg.predict(feature_test)"
      ]
    },
    {
      "cell_type": "code",
      "execution_count": 28,
      "metadata": {
        "colab": {
          "base_uri": "https://localhost:8080/"
        },
        "id": "g3h2OeW_1zms",
        "outputId": "ce834ff2-9117-4676-98da-7bba549476ac"
      },
      "outputs": [
        {
          "output_type": "stream",
          "name": "stdout",
          "text": [
            "Logistic Regression Model Accuracy: 0.9238095238095239\n",
            "Logistic Regression Model Precision: 0.923728813559322\n",
            "Logistic Regression Model Recall: 1.0\n",
            "Logistic Regression Model F1-Score: 0.960352422907489\n"
          ]
        }
      ],
      "source": [
        "# Import metrics module for performance evaluation\n",
        "from sklearn.metrics import accuracy_score\n",
        "from sklearn.metrics import precision_score\n",
        "from sklearn.metrics import recall_score\n",
        "from sklearn.metrics import f1_score\n",
        "\n",
        "# Assess model performance using accuracy measure\n",
        "print(\"Logistic Regression Model Accuracy:\",accuracy_score(target_test, predictions))\n",
        "# Calculate model precision\n",
        "print(\"Logistic Regression Model Precision:\",precision_score(target_test, predictions))\n",
        "# Calculate model recall\n",
        "print(\"Logistic Regression Model Recall:\",recall_score(target_test, predictions))\n",
        "# Calculate model f1 score\n",
        "print(\"Logistic Regression Model F1-Score:\",f1_score(target_test, predictions))"
      ]
    },
    {
      "cell_type": "markdown",
      "metadata": {
        "id": "y2PVAjSw1zms"
      },
      "source": [
        "## Text Similarity"
      ]
    },
    {
      "cell_type": "code",
      "execution_count": 29,
      "metadata": {
        "colab": {
          "base_uri": "https://localhost:8080/"
        },
        "id": "dHZG4VPv1zms",
        "outputId": "12aa3762-2356-4e80-ce97-795042b17dce"
      },
      "outputs": [
        {
          "output_type": "execute_result",
          "data": {
            "text/plain": [
              "0.5"
            ]
          },
          "metadata": {},
          "execution_count": 29
        }
      ],
      "source": [
        "def jaccard_similarity(sent1, sent2):\n",
        "    \"\"\"Find text similarity using jaccard similarity\"\"\"\n",
        "    \n",
        "    # Tokenize sentences\n",
        "    token1 = set(sent1.split())\n",
        "    token2 = set(sent2.split())\n",
        "     \n",
        "    # intersection between tokens of two sentences    \n",
        "    intersection_tokens = token1.intersection(token2)\n",
        "    \n",
        "    # Union between tokens of two sentences\n",
        "    union_tokens=token1.union(token2)\n",
        "    \n",
        "    # Cosine Similarity\n",
        "    sim_= float(len(intersection_tokens) / len(union_tokens))\n",
        "    return sim_\n",
        "\n",
        "# Call function\n",
        "jaccard_similarity('I love pets.','I hate pets.')"
      ]
    },
    {
      "cell_type": "code",
      "execution_count": 30,
      "metadata": {
        "colab": {
          "base_uri": "https://localhost:8080/"
        },
        "id": "i7jd19bJ1zms",
        "outputId": "059f3ac3-eca3-4826-9918-0584366ea124"
      },
      "outputs": [
        {
          "output_type": "stream",
          "name": "stdout",
          "text": [
            "[[0.33609693]]\n"
          ]
        }
      ],
      "source": [
        "# Let's import text feature extraction TfidfVectorizer\n",
        "from sklearn.feature_extraction.text import TfidfVectorizer\n",
        " \n",
        "docs=['I love pets.','I hate pets.']\n",
        " \n",
        "# Initialize TfidfVectorizer object\n",
        "tfidf= TfidfVectorizer()\n",
        " \n",
        "# Fit and transform the given data\n",
        "tfidf_vector = tfidf.fit_transform(docs)\n",
        " \n",
        "# Import cosine_similarity metrics\n",
        "from sklearn.metrics.pairwise import cosine_similarity\n",
        " \n",
        "# compute similarity using cosine similarity\n",
        "cos_sim=cosine_similarity(tfidf_vector[0], tfidf_vector[1])\n",
        "print(cos_sim)"
      ]
    },
    {
      "cell_type": "code",
      "execution_count": 31,
      "metadata": {
        "colab": {
          "base_uri": "https://localhost:8080/"
        },
        "id": "Tgq2J3yG82sv",
        "outputId": "b788a016-0b96-495e-835d-1398221b50a7"
      },
      "outputs": [
        {
          "output_type": "stream",
          "name": "stdout",
          "text": [
            "0.6583500043020688\n"
          ]
        },
        {
          "output_type": "stream",
          "name": "stderr",
          "text": [
            "<ipython-input-31-09abbeb5300b>:9: UserWarning: [W007] The model you're using has no word vectors loaded, so the result of the Doc.similarity method will be based on the tagger, parser and NER, which may not give useful similarity judgements. This may happen if you're using one of the small models, e.g. `en_core_web_sm`, which don't ship with word vectors and only use context-sensitive tensors. You can always add your own word vectors, or use one of the larger models instead if available.\n",
            "  print(doc1.similarity(doc2))\n"
          ]
        }
      ],
      "source": [
        "# Load English model for tokenizer, tagger, parser, and NER \n",
        "nlp = spacy.load('en_core_web_sm') \n",
        " \n",
        "# Create documents\n",
        "doc1 = nlp(u'I love pets.')\n",
        "doc2 = nlp(u'I hate pets')\n",
        " \n",
        "# Find similarity\n",
        "print(doc1.similarity(doc2))"
      ]
    },
    {
      "cell_type": "code",
      "execution_count": 32,
      "metadata": {
        "colab": {
          "base_uri": "https://localhost:8080/"
        },
        "id": "ULzTxiWY8QmP",
        "outputId": "9569a0cd-46ce-43e9-8287-3ecb64110cd7"
      },
      "outputs": [
        {
          "output_type": "stream",
          "name": "stdout",
          "text": [
            "/usr/local/lib/python3.8/dist-packages/torch/cuda/__init__.py:497: UserWarning: Can't initialize NVML\n",
            "  warnings.warn(\"Can't initialize NVML\")\n",
            "2023-03-05 18:00:41.731559: W tensorflow/compiler/xla/stream_executor/platform/default/dso_loader.cc:64] Could not load dynamic library 'libnvinfer.so.7'; dlerror: libnvinfer.so.7: cannot open shared object file: No such file or directory; LD_LIBRARY_PATH: /usr/local/nvidia/lib:/usr/local/nvidia/lib64\n",
            "2023-03-05 18:00:41.731692: W tensorflow/compiler/xla/stream_executor/platform/default/dso_loader.cc:64] Could not load dynamic library 'libnvinfer_plugin.so.7'; dlerror: libnvinfer_plugin.so.7: cannot open shared object file: No such file or directory; LD_LIBRARY_PATH: /usr/local/nvidia/lib:/usr/local/nvidia/lib64\n",
            "2023-03-05 18:00:41.731717: W tensorflow/compiler/tf2tensorrt/utils/py_utils.cc:38] TF-TRT Warning: Cannot dlopen some TensorRT libraries. If you would like to use Nvidia GPU with TensorRT, please make sure the missing libraries mentioned above are installed properly.\n",
            "2023-03-05 18:00:43.966385: E tensorflow/compiler/xla/stream_executor/cuda/cuda_driver.cc:267] failed call to cuInit: CUDA_ERROR_NO_DEVICE: no CUDA-capable device is detected\n",
            "Looking in indexes: https://pypi.org/simple, https://us-python.pkg.dev/colab-wheels/public/simple/\n",
            "Collecting en-core-web-lg==3.4.1\n",
            "  Downloading https://github.com/explosion/spacy-models/releases/download/en_core_web_lg-3.4.1/en_core_web_lg-3.4.1-py3-none-any.whl (587.7 MB)\n",
            "\u001b[2K     \u001b[90m━━━━━━━━━━━━━━━━━━━━━━━━━━━━━━━━━━━━━━━\u001b[0m \u001b[32m587.7/587.7 MB\u001b[0m \u001b[31m2.7 MB/s\u001b[0m eta \u001b[36m0:00:00\u001b[0m\n",
            "\u001b[?25hRequirement already satisfied: spacy<3.5.0,>=3.4.0 in /usr/local/lib/python3.8/dist-packages (from en-core-web-lg==3.4.1) (3.4.4)\n",
            "Requirement already satisfied: spacy-loggers<2.0.0,>=1.0.0 in /usr/local/lib/python3.8/dist-packages (from spacy<3.5.0,>=3.4.0->en-core-web-lg==3.4.1) (1.0.4)\n",
            "Requirement already satisfied: setuptools in /usr/local/lib/python3.8/dist-packages (from spacy<3.5.0,>=3.4.0->en-core-web-lg==3.4.1) (57.4.0)\n",
            "Requirement already satisfied: pathy>=0.3.5 in /usr/local/lib/python3.8/dist-packages (from spacy<3.5.0,>=3.4.0->en-core-web-lg==3.4.1) (0.10.1)\n",
            "Requirement already satisfied: requests<3.0.0,>=2.13.0 in /usr/local/lib/python3.8/dist-packages (from spacy<3.5.0,>=3.4.0->en-core-web-lg==3.4.1) (2.25.1)\n",
            "Requirement already satisfied: wasabi<1.1.0,>=0.9.1 in /usr/local/lib/python3.8/dist-packages (from spacy<3.5.0,>=3.4.0->en-core-web-lg==3.4.1) (0.10.1)\n",
            "Requirement already satisfied: thinc<8.2.0,>=8.1.0 in /usr/local/lib/python3.8/dist-packages (from spacy<3.5.0,>=3.4.0->en-core-web-lg==3.4.1) (8.1.7)\n",
            "Requirement already satisfied: jinja2 in /usr/local/lib/python3.8/dist-packages (from spacy<3.5.0,>=3.4.0->en-core-web-lg==3.4.1) (3.1.2)\n",
            "Requirement already satisfied: srsly<3.0.0,>=2.4.3 in /usr/local/lib/python3.8/dist-packages (from spacy<3.5.0,>=3.4.0->en-core-web-lg==3.4.1) (2.4.6)\n",
            "Requirement already satisfied: packaging>=20.0 in /usr/local/lib/python3.8/dist-packages (from spacy<3.5.0,>=3.4.0->en-core-web-lg==3.4.1) (23.0)\n",
            "Requirement already satisfied: numpy>=1.15.0 in /usr/local/lib/python3.8/dist-packages (from spacy<3.5.0,>=3.4.0->en-core-web-lg==3.4.1) (1.22.4)\n",
            "Requirement already satisfied: tqdm<5.0.0,>=4.38.0 in /usr/local/lib/python3.8/dist-packages (from spacy<3.5.0,>=3.4.0->en-core-web-lg==3.4.1) (4.64.1)\n",
            "Requirement already satisfied: catalogue<2.1.0,>=2.0.6 in /usr/local/lib/python3.8/dist-packages (from spacy<3.5.0,>=3.4.0->en-core-web-lg==3.4.1) (2.0.8)\n",
            "Requirement already satisfied: typer<0.8.0,>=0.3.0 in /usr/local/lib/python3.8/dist-packages (from spacy<3.5.0,>=3.4.0->en-core-web-lg==3.4.1) (0.7.0)\n",
            "Requirement already satisfied: spacy-legacy<3.1.0,>=3.0.10 in /usr/local/lib/python3.8/dist-packages (from spacy<3.5.0,>=3.4.0->en-core-web-lg==3.4.1) (3.0.12)\n",
            "Requirement already satisfied: murmurhash<1.1.0,>=0.28.0 in /usr/local/lib/python3.8/dist-packages (from spacy<3.5.0,>=3.4.0->en-core-web-lg==3.4.1) (1.0.9)\n",
            "Requirement already satisfied: cymem<2.1.0,>=2.0.2 in /usr/local/lib/python3.8/dist-packages (from spacy<3.5.0,>=3.4.0->en-core-web-lg==3.4.1) (2.0.7)\n",
            "Requirement already satisfied: langcodes<4.0.0,>=3.2.0 in /usr/local/lib/python3.8/dist-packages (from spacy<3.5.0,>=3.4.0->en-core-web-lg==3.4.1) (3.3.0)\n",
            "Requirement already satisfied: preshed<3.1.0,>=3.0.2 in /usr/local/lib/python3.8/dist-packages (from spacy<3.5.0,>=3.4.0->en-core-web-lg==3.4.1) (3.0.8)\n",
            "Requirement already satisfied: smart-open<7.0.0,>=5.2.1 in /usr/local/lib/python3.8/dist-packages (from spacy<3.5.0,>=3.4.0->en-core-web-lg==3.4.1) (6.3.0)\n",
            "Requirement already satisfied: pydantic!=1.8,!=1.8.1,<1.11.0,>=1.7.4 in /usr/local/lib/python3.8/dist-packages (from spacy<3.5.0,>=3.4.0->en-core-web-lg==3.4.1) (1.10.5)\n",
            "Requirement already satisfied: typing-extensions>=4.2.0 in /usr/local/lib/python3.8/dist-packages (from pydantic!=1.8,!=1.8.1,<1.11.0,>=1.7.4->spacy<3.5.0,>=3.4.0->en-core-web-lg==3.4.1) (4.5.0)\n",
            "Requirement already satisfied: urllib3<1.27,>=1.21.1 in /usr/local/lib/python3.8/dist-packages (from requests<3.0.0,>=2.13.0->spacy<3.5.0,>=3.4.0->en-core-web-lg==3.4.1) (1.26.14)\n",
            "Requirement already satisfied: idna<3,>=2.5 in /usr/local/lib/python3.8/dist-packages (from requests<3.0.0,>=2.13.0->spacy<3.5.0,>=3.4.0->en-core-web-lg==3.4.1) (2.10)\n",
            "Requirement already satisfied: chardet<5,>=3.0.2 in /usr/local/lib/python3.8/dist-packages (from requests<3.0.0,>=2.13.0->spacy<3.5.0,>=3.4.0->en-core-web-lg==3.4.1) (4.0.0)\n",
            "Requirement already satisfied: certifi>=2017.4.17 in /usr/local/lib/python3.8/dist-packages (from requests<3.0.0,>=2.13.0->spacy<3.5.0,>=3.4.0->en-core-web-lg==3.4.1) (2022.12.7)\n",
            "Requirement already satisfied: blis<0.8.0,>=0.7.8 in /usr/local/lib/python3.8/dist-packages (from thinc<8.2.0,>=8.1.0->spacy<3.5.0,>=3.4.0->en-core-web-lg==3.4.1) (0.7.9)\n",
            "Requirement already satisfied: confection<1.0.0,>=0.0.1 in /usr/local/lib/python3.8/dist-packages (from thinc<8.2.0,>=8.1.0->spacy<3.5.0,>=3.4.0->en-core-web-lg==3.4.1) (0.0.4)\n",
            "Requirement already satisfied: click<9.0.0,>=7.1.1 in /usr/local/lib/python3.8/dist-packages (from typer<0.8.0,>=0.3.0->spacy<3.5.0,>=3.4.0->en-core-web-lg==3.4.1) (8.1.3)\n",
            "Requirement already satisfied: MarkupSafe>=2.0 in /usr/local/lib/python3.8/dist-packages (from jinja2->spacy<3.5.0,>=3.4.0->en-core-web-lg==3.4.1) (2.1.2)\n",
            "\u001b[38;5;2m✔ Download and installation successful\u001b[0m\n",
            "You can now load the package via spacy.load('en_core_web_lg')\n"
          ]
        }
      ],
      "source": [
        "!python -m spacy download en_core_web_lg"
      ]
    },
    {
      "cell_type": "code",
      "execution_count": 33,
      "metadata": {
        "colab": {
          "base_uri": "https://localhost:8080/"
        },
        "id": "JSse2W-W1zms",
        "outputId": "e28bd407-7397-4f91-df84-053dcad66543"
      },
      "outputs": [
        {
          "output_type": "stream",
          "name": "stdout",
          "text": [
            "0.9041243947777828\n"
          ]
        }
      ],
      "source": [
        "# Import spacy\n",
        "import spacy\n",
        " \n",
        "# Load English model for tokenizer, tagger, parser, and NER \n",
        "nlp = spacy.load('en_core_web_lg') \n",
        " \n",
        "# Create documents\n",
        "doc1 = nlp(u'I love pets.')\n",
        "doc2 = nlp(u'I hate pets')\n",
        " \n",
        "# Find similarity\n",
        "print(doc1.similarity(doc2))"
      ]
    },
    {
      "cell_type": "markdown",
      "metadata": {
        "id": "SMRL_eKmL43W"
      },
      "source": [
        "\n",
        "\n",
        "---\n",
        "\n",
        "\n",
        "# [Lap 1] Sentiment Analysis!\n",
        "Try Sentiment Analysis by following suggenstions.\n",
        "- Use Other dataset: [dataset list](https://research.aimultiple.com/sentiment-analysis-dataset/)\n",
        "- Change your classifier: Other than `Logistic Regression`. [ref](https://www.kaggle.com/code/jeffd23/10-classifier-showdown-in-scikit-learn)\n",
        "- Additional preprocessing: n-gram, stopwords [ref](https://towardsdatascience.com/nlp-preprocessing-with-nltk-3c04ee00edc0)\n",
        "\n",
        "Will grade it only on and off. "
      ]
    },
    {
      "cell_type": "markdown",
      "source": [
        "##Load the Dataset"
      ],
      "metadata": {
        "id": "o6przwbq3UAf"
      }
    },
    {
      "cell_type": "code",
      "execution_count": 34,
      "metadata": {
        "colab": {
          "base_uri": "https://localhost:8080/",
          "height": 206
        },
        "outputId": "683ea6bd-7f5e-478c-c73b-cb490265f7bd",
        "id": "DI5UOvgq3NSf"
      },
      "outputs": [
        {
          "output_type": "execute_result",
          "data": {
            "text/plain": [
              "   rating       date         variation  \\\n",
              "0       5  31-Jul-18  Charcoal Fabric    \n",
              "1       5  31-Jul-18  Charcoal Fabric    \n",
              "2       4  31-Jul-18    Walnut Finish    \n",
              "3       5  31-Jul-18  Charcoal Fabric    \n",
              "4       5  31-Jul-18  Charcoal Fabric    \n",
              "\n",
              "                                    verified_reviews  feedback  \n",
              "0                                      Love my Echo!         1  \n",
              "1                                          Loved it!         1  \n",
              "2  Sometimes while playing a game, you can answer...         1  \n",
              "3  I have had a lot of fun with this thing. My 4 ...         1  \n",
              "4                                              Music         1  "
            ],
            "text/html": [
              "\n",
              "  <div id=\"df-f8dd856b-8f68-4830-b4f2-39b05096ede0\">\n",
              "    <div class=\"colab-df-container\">\n",
              "      <div>\n",
              "<style scoped>\n",
              "    .dataframe tbody tr th:only-of-type {\n",
              "        vertical-align: middle;\n",
              "    }\n",
              "\n",
              "    .dataframe tbody tr th {\n",
              "        vertical-align: top;\n",
              "    }\n",
              "\n",
              "    .dataframe thead th {\n",
              "        text-align: right;\n",
              "    }\n",
              "</style>\n",
              "<table border=\"1\" class=\"dataframe\">\n",
              "  <thead>\n",
              "    <tr style=\"text-align: right;\">\n",
              "      <th></th>\n",
              "      <th>rating</th>\n",
              "      <th>date</th>\n",
              "      <th>variation</th>\n",
              "      <th>verified_reviews</th>\n",
              "      <th>feedback</th>\n",
              "    </tr>\n",
              "  </thead>\n",
              "  <tbody>\n",
              "    <tr>\n",
              "      <th>0</th>\n",
              "      <td>5</td>\n",
              "      <td>31-Jul-18</td>\n",
              "      <td>Charcoal Fabric</td>\n",
              "      <td>Love my Echo!</td>\n",
              "      <td>1</td>\n",
              "    </tr>\n",
              "    <tr>\n",
              "      <th>1</th>\n",
              "      <td>5</td>\n",
              "      <td>31-Jul-18</td>\n",
              "      <td>Charcoal Fabric</td>\n",
              "      <td>Loved it!</td>\n",
              "      <td>1</td>\n",
              "    </tr>\n",
              "    <tr>\n",
              "      <th>2</th>\n",
              "      <td>4</td>\n",
              "      <td>31-Jul-18</td>\n",
              "      <td>Walnut Finish</td>\n",
              "      <td>Sometimes while playing a game, you can answer...</td>\n",
              "      <td>1</td>\n",
              "    </tr>\n",
              "    <tr>\n",
              "      <th>3</th>\n",
              "      <td>5</td>\n",
              "      <td>31-Jul-18</td>\n",
              "      <td>Charcoal Fabric</td>\n",
              "      <td>I have had a lot of fun with this thing. My 4 ...</td>\n",
              "      <td>1</td>\n",
              "    </tr>\n",
              "    <tr>\n",
              "      <th>4</th>\n",
              "      <td>5</td>\n",
              "      <td>31-Jul-18</td>\n",
              "      <td>Charcoal Fabric</td>\n",
              "      <td>Music</td>\n",
              "      <td>1</td>\n",
              "    </tr>\n",
              "  </tbody>\n",
              "</table>\n",
              "</div>\n",
              "      <button class=\"colab-df-convert\" onclick=\"convertToInteractive('df-f8dd856b-8f68-4830-b4f2-39b05096ede0')\"\n",
              "              title=\"Convert this dataframe to an interactive table.\"\n",
              "              style=\"display:none;\">\n",
              "        \n",
              "  <svg xmlns=\"http://www.w3.org/2000/svg\" height=\"24px\"viewBox=\"0 0 24 24\"\n",
              "       width=\"24px\">\n",
              "    <path d=\"M0 0h24v24H0V0z\" fill=\"none\"/>\n",
              "    <path d=\"M18.56 5.44l.94 2.06.94-2.06 2.06-.94-2.06-.94-.94-2.06-.94 2.06-2.06.94zm-11 1L8.5 8.5l.94-2.06 2.06-.94-2.06-.94L8.5 2.5l-.94 2.06-2.06.94zm10 10l.94 2.06.94-2.06 2.06-.94-2.06-.94-.94-2.06-.94 2.06-2.06.94z\"/><path d=\"M17.41 7.96l-1.37-1.37c-.4-.4-.92-.59-1.43-.59-.52 0-1.04.2-1.43.59L10.3 9.45l-7.72 7.72c-.78.78-.78 2.05 0 2.83L4 21.41c.39.39.9.59 1.41.59.51 0 1.02-.2 1.41-.59l7.78-7.78 2.81-2.81c.8-.78.8-2.07 0-2.86zM5.41 20L4 18.59l7.72-7.72 1.47 1.35L5.41 20z\"/>\n",
              "  </svg>\n",
              "      </button>\n",
              "      \n",
              "  <style>\n",
              "    .colab-df-container {\n",
              "      display:flex;\n",
              "      flex-wrap:wrap;\n",
              "      gap: 12px;\n",
              "    }\n",
              "\n",
              "    .colab-df-convert {\n",
              "      background-color: #E8F0FE;\n",
              "      border: none;\n",
              "      border-radius: 50%;\n",
              "      cursor: pointer;\n",
              "      display: none;\n",
              "      fill: #1967D2;\n",
              "      height: 32px;\n",
              "      padding: 0 0 0 0;\n",
              "      width: 32px;\n",
              "    }\n",
              "\n",
              "    .colab-df-convert:hover {\n",
              "      background-color: #E2EBFA;\n",
              "      box-shadow: 0px 1px 2px rgba(60, 64, 67, 0.3), 0px 1px 3px 1px rgba(60, 64, 67, 0.15);\n",
              "      fill: #174EA6;\n",
              "    }\n",
              "\n",
              "    [theme=dark] .colab-df-convert {\n",
              "      background-color: #3B4455;\n",
              "      fill: #D2E3FC;\n",
              "    }\n",
              "\n",
              "    [theme=dark] .colab-df-convert:hover {\n",
              "      background-color: #434B5C;\n",
              "      box-shadow: 0px 1px 3px 1px rgba(0, 0, 0, 0.15);\n",
              "      filter: drop-shadow(0px 1px 2px rgba(0, 0, 0, 0.3));\n",
              "      fill: #FFFFFF;\n",
              "    }\n",
              "  </style>\n",
              "\n",
              "      <script>\n",
              "        const buttonEl =\n",
              "          document.querySelector('#df-f8dd856b-8f68-4830-b4f2-39b05096ede0 button.colab-df-convert');\n",
              "        buttonEl.style.display =\n",
              "          google.colab.kernel.accessAllowed ? 'block' : 'none';\n",
              "\n",
              "        async function convertToInteractive(key) {\n",
              "          const element = document.querySelector('#df-f8dd856b-8f68-4830-b4f2-39b05096ede0');\n",
              "          const dataTable =\n",
              "            await google.colab.kernel.invokeFunction('convertToInteractive',\n",
              "                                                     [key], {});\n",
              "          if (!dataTable) return;\n",
              "\n",
              "          const docLinkHtml = 'Like what you see? Visit the ' +\n",
              "            '<a target=\"_blank\" href=https://colab.research.google.com/notebooks/data_table.ipynb>data table notebook</a>'\n",
              "            + ' to learn more about interactive tables.';\n",
              "          element.innerHTML = '';\n",
              "          dataTable['output_type'] = 'display_data';\n",
              "          await google.colab.output.renderOutput(dataTable, element);\n",
              "          const docLink = document.createElement('div');\n",
              "          docLink.innerHTML = docLinkHtml;\n",
              "          element.appendChild(docLink);\n",
              "        }\n",
              "      </script>\n",
              "    </div>\n",
              "  </div>\n",
              "  "
            ]
          },
          "metadata": {},
          "execution_count": 34
        }
      ],
      "source": [
        "# Import libraries\n",
        "import pandas as pd\n",
        "\n",
        "# read the dataset\n",
        "copus_url = 'https://raw.githubusercontent.com/sharmaroshan/Amazon-Alexa-Reviews/master/amazon_alexa.tsv'\n",
        "df=pd.read_csv(copus_url, sep='\\t')\n",
        "    \n",
        "# Show top 5-records\n",
        "df.head()"
      ]
    },
    {
      "cell_type": "code",
      "execution_count": 35,
      "metadata": {
        "colab": {
          "base_uri": "https://localhost:8080/",
          "height": 281
        },
        "outputId": "409b11af-9ae3-4da3-df15-e1eadb6e9aa4",
        "id": "00h4TQ9J3NSf"
      },
      "outputs": [
        {
          "output_type": "display_data",
          "data": {
            "text/plain": [
              "<Figure size 432x288 with 1 Axes>"
            ],
            "image/png": "[encoded data removed]"
          },
          "metadata": {
            "needs_background": "light"
          }
        }
      ],
      "source": [
        "# Import seaborn\n",
        "import seaborn as sns\n",
        "import matplotlib.pyplot as plt\n",
        " \n",
        "# Count plot\n",
        "sns.countplot(x='feedback', data=df)\n",
        " \n",
        "# Set X-axis and Y-axis labels\n",
        "plt.xlabel('Sentiment Score')\n",
        "plt.ylabel('Number of Records')\n",
        " \n",
        "# Show the plot using show() function\n",
        "plt.show()\n"
      ]
    },
    {
      "cell_type": "markdown",
      "source": [
        "##Classification Model Building using Random Forest Classifier\n",
        "##Classification using Bag of Words (or TF) change n-gram(1,2)"
      ],
      "metadata": {
        "id": "eJWO6d2D3TCP"
      }
    },
    {
      "cell_type": "code",
      "execution_count": 36,
      "metadata": {
        "colab": {
          "base_uri": "https://localhost:8080/"
        },
        "id": "L_kWKEiK3NSf",
        "outputId": "86ba34bd-61a7-4e16-f1b0-c04d065d4a44"
      },
      "outputs": [
        {
          "output_type": "stream",
          "name": "stderr",
          "text": [
            "/usr/local/lib/python3.8/dist-packages/sklearn/feature_extraction/text.py:528: UserWarning: The parameter 'token_pattern' will not be used since 'tokenizer' is not None'\n",
            "  warnings.warn(\n"
          ]
        }
      ],
      "source": [
        "# Import CountVectorizer and RegexTokenizer\n",
        "from nltk.tokenize import RegexpTokenizer\n",
        "from sklearn.feature_extraction.text import CountVectorizer\n",
        "\n",
        " \n",
        "# Create Regex tokenizer for removing special symbols and numeric values \n",
        "regex_tokenizer = RegexpTokenizer(r'[a-zA-Z]+')\n",
        " \n",
        "# Initialize CountVectorizer object\n",
        "count_vectorizer = CountVectorizer(lowercase=True, \n",
        "                     stop_words='english', \n",
        "                     ngram_range = (1,2), \n",
        "                     tokenizer = regex_tokenizer.tokenize)\n",
        " \n",
        "# Fit and transform the dataset\n",
        "count_vectors = count_vectorizer.fit_transform(df['verified_reviews'])"
      ]
    },
    {
      "cell_type": "code",
      "execution_count": 37,
      "metadata": {
        "id": "Noq9Fa343NSf"
      },
      "outputs": [],
      "source": [
        "# Import train_test_split\n",
        "from sklearn.model_selection import train_test_split\n",
        " \n",
        "# Partition data into training and testing set \n",
        "from sklearn.model_selection import train_test_split\n",
        "feature_train, feature_test, target_train, target_test = train_test_split(\n",
        "    count_vectors, df['feedback'], test_size=0.3, random_state=1)"
      ]
    },
    {
      "cell_type": "code",
      "execution_count": 38,
      "metadata": {
        "id": "GwPwn0VQ3NSf"
      },
      "outputs": [],
      "source": [
        "# import logistic regression scikit-learn model\n",
        "from sklearn.linear_model import LogisticRegression\n",
        " \n",
        "# instantiate the model\n",
        "logreg = LogisticRegression(solver='lbfgs')\n",
        " \n",
        "# fit the model with data\n",
        "logreg.fit(feature_train,target_train)\n",
        " \n",
        "# Forecast the target variable for given test dataset\n",
        "predictions = logreg.predict(feature_test)"
      ]
    },
    {
      "cell_type": "code",
      "execution_count": 39,
      "metadata": {
        "colab": {
          "base_uri": "https://localhost:8080/"
        },
        "scrolled": true,
        "outputId": "25909504-4817-4f0c-e57f-1978178163de",
        "id": "T-i_mXm23NSg"
      },
      "outputs": [
        {
          "output_type": "stream",
          "name": "stdout",
          "text": [
            "Logistic Regression Model Accuracy: 0.9439153439153439\n",
            "Logistic Regression Model Precision: 0.9495060373216246\n",
            "Logistic Regression Model Recall: 0.9919724770642202\n",
            "Logistic Regression Model F1-Score: 0.970274817722939\n"
          ]
        }
      ],
      "source": [
        "# Import metrics module for performance evaluation\n",
        "from sklearn.metrics import accuracy_score\n",
        "from sklearn.metrics import precision_score\n",
        "from sklearn.metrics import recall_score\n",
        "from sklearn.metrics import f1_score\n",
        "\n",
        "# Assess model performance using accuracy measure\n",
        "print(\"Logistic Regression Model Accuracy:\",accuracy_score(target_test, predictions))\n",
        "# Calculate model precision\n",
        "print(\"Logistic Regression Model Precision:\",precision_score(target_test, predictions))\n",
        "# Calculate model recall\n",
        "print(\"Logistic Regression Model Recall:\",recall_score(target_test, predictions))\n",
        "# Calculate model f1 score\n",
        "print(\"Logistic Regression Model F1-Score:\",f1_score(target_test, predictions))"
      ]
    },
    {
      "cell_type": "markdown",
      "source": [
        "##Classification using TF-IDF change n-gram(1,2)"
      ],
      "metadata": {
        "id": "cJDu8X4C3y1o"
      }
    },
    {
      "cell_type": "code",
      "execution_count": 40,
      "metadata": {
        "colab": {
          "base_uri": "https://localhost:8080/"
        },
        "id": "jZD25QqV3NSg",
        "outputId": "857a5ed6-2608-417f-9a8e-a7b5c609c377"
      },
      "outputs": [
        {
          "output_type": "stream",
          "name": "stderr",
          "text": [
            "/usr/local/lib/python3.8/dist-packages/sklearn/feature_extraction/text.py:528: UserWarning: The parameter 'token_pattern' will not be used since 'tokenizer' is not None'\n",
            "  warnings.warn(\n"
          ]
        }
      ],
      "source": [
        "# Import TfidfVectorizer and RegexTokenizer\n",
        "from nltk.tokenize import RegexpTokenizer\n",
        "from sklearn.feature_extraction.text import TfidfVectorizer\n",
        "\n",
        "# Create Regex tokenizer for removing special symbols and numeric values \n",
        "regex_tokenizer = RegexpTokenizer(r'[a-zA-Z]+')\n",
        " \n",
        "# Initialize TfidfVectorizer object\n",
        "tfidf = TfidfVectorizer(lowercase=True,stop_words='english',ngram_range = (1,2),tokenizer = regex_tokenizer.tokenize)\n",
        " \n",
        "# Fit and transform the dataset\n",
        "text_tfidf= tfidf.fit_transform(df['verified_reviews'])"
      ]
    },
    {
      "cell_type": "code",
      "execution_count": 41,
      "metadata": {
        "id": "iBPY-3Z23NSg"
      },
      "outputs": [],
      "source": [
        "# Import train_test_split\n",
        "from sklearn.model_selection import train_test_split\n",
        " \n",
        "# Partition data into training and testing set \n",
        "from sklearn.model_selection import train_test_split\n",
        "feature_train, feature_test, target_train, target_test = train_test_split(\n",
        "    text_tfidf, df['feedback'], test_size=0.3, random_state=1)"
      ]
    },
    {
      "cell_type": "code",
      "execution_count": 42,
      "metadata": {
        "id": "kvPltLi33NSg"
      },
      "outputs": [],
      "source": [
        "# import logistic regression scikit-learn model\n",
        "from sklearn.linear_model import LogisticRegression\n",
        " \n",
        "# instantiate the model\n",
        "logreg = LogisticRegression(solver='lbfgs')\n",
        " \n",
        "# fit the model with data\n",
        "logreg.fit(feature_train,target_train)\n",
        " \n",
        "# Forecast the target variable for given test dataset\n",
        "predictions = logreg.predict(feature_test)"
      ]
    },
    {
      "cell_type": "code",
      "execution_count": 43,
      "metadata": {
        "colab": {
          "base_uri": "https://localhost:8080/"
        },
        "outputId": "be9f7963-d3d4-499a-bea8-38cb45acd77b",
        "id": "pQ3TuP9l3NSg"
      },
      "outputs": [
        {
          "output_type": "stream",
          "name": "stdout",
          "text": [
            "Logistic Regression Model Accuracy: 0.9227513227513228\n",
            "Logistic Regression Model Precision: 0.9227513227513228\n",
            "Logistic Regression Model Recall: 1.0\n",
            "Logistic Regression Model F1-Score: 0.9598238855255916\n"
          ]
        }
      ],
      "source": [
        "# Import metrics module for performance evaluation\n",
        "from sklearn.metrics import accuracy_score\n",
        "from sklearn.metrics import precision_score\n",
        "from sklearn.metrics import recall_score\n",
        "from sklearn.metrics import f1_score\n",
        "\n",
        "# Assess model performance using accuracy measure\n",
        "print(\"Logistic Regression Model Accuracy:\",accuracy_score(target_test, predictions))\n",
        "# Calculate model precision\n",
        "print(\"Logistic Regression Model Precision:\",precision_score(target_test, predictions))\n",
        "# Calculate model recall\n",
        "print(\"Logistic Regression Model Recall:\",recall_score(target_test, predictions))\n",
        "# Calculate model f1 score\n",
        "print(\"Logistic Regression Model F1-Score:\",f1_score(target_test, predictions))"
      ]
    },
    {
      "cell_type": "markdown",
      "source": [
        "##Classification Model Building using Random Forest Classifier"
      ],
      "metadata": {
        "id": "c-R3Qgh352w_"
      }
    },
    {
      "cell_type": "markdown",
      "source": [
        "##Classification using Bag of Words (or TF) n-gram(1,1)"
      ],
      "metadata": {
        "id": "4qL5YHbC6OsU"
      }
    },
    {
      "cell_type": "code",
      "execution_count": 44,
      "metadata": {
        "colab": {
          "base_uri": "https://localhost:8080/"
        },
        "outputId": "147816a0-b3a7-41d1-cd92-bc01f8126735",
        "id": "_PiENRiW6IMR"
      },
      "outputs": [
        {
          "output_type": "stream",
          "name": "stderr",
          "text": [
            "/usr/local/lib/python3.8/dist-packages/sklearn/feature_extraction/text.py:528: UserWarning: The parameter 'token_pattern' will not be used since 'tokenizer' is not None'\n",
            "  warnings.warn(\n"
          ]
        }
      ],
      "source": [
        "# Import CountVectorizer and RegexTokenizer\n",
        "from nltk.tokenize import RegexpTokenizer\n",
        "from sklearn.feature_extraction.text import CountVectorizer\n",
        "\n",
        " \n",
        "# Create Regex tokenizer for removing special symbols and numeric values \n",
        "regex_tokenizer = RegexpTokenizer(r'[a-zA-Z]+')\n",
        " \n",
        "# Initialize CountVectorizer object\n",
        "count_vectorizer = CountVectorizer(lowercase=True, \n",
        "                     stop_words='english', \n",
        "                     ngram_range = (1,1), \n",
        "                     tokenizer = regex_tokenizer.tokenize)\n",
        " \n",
        "# Fit and transform the dataset\n",
        "count_vectors = count_vectorizer.fit_transform(df['verified_reviews'])"
      ]
    },
    {
      "cell_type": "code",
      "execution_count": 45,
      "metadata": {
        "id": "8eYEMd1X6IMR"
      },
      "outputs": [],
      "source": [
        "# Import train_test_split\n",
        "from sklearn.model_selection import train_test_split\n",
        " \n",
        "# Partition data into training and testing set \n",
        "from sklearn.model_selection import train_test_split\n",
        "feature_train, feature_test, target_train, target_test = train_test_split(\n",
        "    count_vectors, df['feedback'], test_size=0.3, random_state=1)"
      ]
    },
    {
      "cell_type": "code",
      "execution_count": 46,
      "metadata": {
        "id": "cHSgqYpm6IMR"
      },
      "outputs": [],
      "source": [
        "# import logistic regression scikit-learn model\n",
        "from sklearn.ensemble import RandomForestClassifier\n",
        " \n",
        "# instantiate the model\n",
        "ranfor = RandomForestClassifier()\n",
        " \n",
        "# fit the model with data\n",
        "ranfor.fit(feature_train,target_train)\n",
        " \n",
        "# Forecast the target variable for given test dataset\n",
        "predictions = ranfor.predict(feature_test)"
      ]
    },
    {
      "cell_type": "code",
      "execution_count": 47,
      "metadata": {
        "colab": {
          "base_uri": "https://localhost:8080/"
        },
        "scrolled": true,
        "outputId": "5a865a2d-60ac-44b8-d758-90b2933c5dfb",
        "id": "SFYDhKQX6IMR"
      },
      "outputs": [
        {
          "output_type": "stream",
          "name": "stdout",
          "text": [
            "Random Forest Model Accuracy: 0.9396825396825397\n",
            "Random Forest Model Precision: 0.9443838604143948\n",
            "Random Forest Model Recall: 0.9931192660550459\n",
            "Random Forest Model F1-Score: 0.9681386249301286\n"
          ]
        }
      ],
      "source": [
        "# Import metrics module for performance evaluation\n",
        "from sklearn.metrics import accuracy_score\n",
        "from sklearn.metrics import precision_score\n",
        "from sklearn.metrics import recall_score\n",
        "from sklearn.metrics import f1_score\n",
        "\n",
        "# Assess model performance using accuracy measure\n",
        "print(\"Random Forest Model Accuracy:\",accuracy_score(target_test, predictions))\n",
        "# Calculate model precision\n",
        "print(\"Random Forest Model Precision:\",precision_score(target_test, predictions))\n",
        "# Calculate model recall\n",
        "print(\"Random Forest Model Recall:\",recall_score(target_test, predictions))\n",
        "# Calculate model f1 score\n",
        "print(\"Random Forest Model F1-Score:\",f1_score(target_test, predictions))"
      ]
    },
    {
      "cell_type": "markdown",
      "source": [
        "##Classification using TF-IDF n-gram(1,1)"
      ],
      "metadata": {
        "id": "iP4an_wW64He"
      }
    },
    {
      "cell_type": "code",
      "execution_count": 48,
      "metadata": {
        "colab": {
          "base_uri": "https://localhost:8080/"
        },
        "outputId": "843f7936-ebab-43a5-d0c5-4700c858bef1",
        "id": "J70Sxrc76IMR"
      },
      "outputs": [
        {
          "output_type": "stream",
          "name": "stderr",
          "text": [
            "/usr/local/lib/python3.8/dist-packages/sklearn/feature_extraction/text.py:528: UserWarning: The parameter 'token_pattern' will not be used since 'tokenizer' is not None'\n",
            "  warnings.warn(\n"
          ]
        }
      ],
      "source": [
        "# Import TfidfVectorizer and RegexTokenizer\n",
        "from nltk.tokenize import RegexpTokenizer\n",
        "from sklearn.feature_extraction.text import TfidfVectorizer\n",
        "\n",
        "# Create Regex tokenizer for removing special symbols and numeric values \n",
        "regex_tokenizer = RegexpTokenizer(r'[a-zA-Z]+')\n",
        " \n",
        "# Initialize TfidfVectorizer object\n",
        "tfidf = TfidfVectorizer(lowercase=True,stop_words='english',ngram_range = (1,1),tokenizer = regex_tokenizer.tokenize)\n",
        " \n",
        "# Fit and transform the dataset\n",
        "text_tfidf= tfidf.fit_transform(df['verified_reviews'])"
      ]
    },
    {
      "cell_type": "code",
      "execution_count": 49,
      "metadata": {
        "id": "hHJIqF_a6IMR"
      },
      "outputs": [],
      "source": [
        "# Import train_test_split\n",
        "from sklearn.model_selection import train_test_split\n",
        " \n",
        "# Partition data into training and testing set \n",
        "from sklearn.model_selection import train_test_split\n",
        "feature_train, feature_test, target_train, target_test = train_test_split(\n",
        "    text_tfidf, df['feedback'], test_size=0.3, random_state=1)"
      ]
    },
    {
      "cell_type": "code",
      "execution_count": 50,
      "metadata": {
        "id": "grG-hwDk6-GK"
      },
      "outputs": [],
      "source": [
        "# import logistic regression scikit-learn model\n",
        "from sklearn.ensemble import RandomForestClassifier\n",
        " \n",
        "# instantiate the model\n",
        "ranfor = RandomForestClassifier()\n",
        " \n",
        "# fit the model with data\n",
        "ranfor.fit(feature_train,target_train)\n",
        " \n",
        "# Forecast the target variable for given test dataset\n",
        "predictions = ranfor.predict(feature_test)"
      ]
    },
    {
      "cell_type": "code",
      "execution_count": 51,
      "metadata": {
        "colab": {
          "base_uri": "https://localhost:8080/"
        },
        "scrolled": true,
        "outputId": "2881f57a-2be4-4dbc-f2a4-57210fbdbac7",
        "id": "aI-qcFuc6-GK"
      },
      "outputs": [
        {
          "output_type": "stream",
          "name": "stdout",
          "text": [
            "Random Forest Model Accuracy: 0.9396825396825397\n",
            "Random Forest Model Precision: 0.9386437029063509\n",
            "Random Forest Model Recall: 1.0\n",
            "Random Forest Model F1-Score: 0.9683509161576902\n"
          ]
        }
      ],
      "source": [
        "# Import metrics module for performance evaluation\n",
        "from sklearn.metrics import accuracy_score\n",
        "from sklearn.metrics import precision_score\n",
        "from sklearn.metrics import recall_score\n",
        "from sklearn.metrics import f1_score\n",
        "\n",
        "# Assess model performance using accuracy measure\n",
        "print(\"Random Forest Model Accuracy:\",accuracy_score(target_test, predictions))\n",
        "# Calculate model precision\n",
        "print(\"Random Forest Model Precision:\",precision_score(target_test, predictions))\n",
        "# Calculate model recall\n",
        "print(\"Random Forest Model Recall:\",recall_score(target_test, predictions))\n",
        "# Calculate model f1 score\n",
        "print(\"Random Forest Model F1-Score:\",f1_score(target_test, predictions))"
      ]
    },
    {
      "cell_type": "markdown",
      "source": [
        "##Classification using Bag of Words (or TF) n-gram(1,2)"
      ],
      "metadata": {
        "id": "PkZ4biM67ZmN"
      }
    },
    {
      "cell_type": "code",
      "execution_count": 52,
      "metadata": {
        "colab": {
          "base_uri": "https://localhost:8080/"
        },
        "outputId": "9ff39db5-d6a8-4c6c-c5cb-d75c2f149bf2",
        "id": "0BfZBaew7ZmN"
      },
      "outputs": [
        {
          "output_type": "stream",
          "name": "stderr",
          "text": [
            "/usr/local/lib/python3.8/dist-packages/sklearn/feature_extraction/text.py:528: UserWarning: The parameter 'token_pattern' will not be used since 'tokenizer' is not None'\n",
            "  warnings.warn(\n"
          ]
        }
      ],
      "source": [
        "# Import CountVectorizer and RegexTokenizer\n",
        "from nltk.tokenize import RegexpTokenizer\n",
        "from sklearn.feature_extraction.text import CountVectorizer\n",
        "\n",
        " \n",
        "# Create Regex tokenizer for removing special symbols and numeric values \n",
        "regex_tokenizer = RegexpTokenizer(r'[a-zA-Z]+')\n",
        " \n",
        "# Initialize CountVectorizer object\n",
        "count_vectorizer = CountVectorizer(lowercase=True, \n",
        "                     stop_words='english', \n",
        "                     ngram_range = (1,2), \n",
        "                     tokenizer = regex_tokenizer.tokenize)\n",
        " \n",
        "# Fit and transform the dataset\n",
        "count_vectors = count_vectorizer.fit_transform(df['verified_reviews'])"
      ]
    },
    {
      "cell_type": "code",
      "execution_count": 53,
      "metadata": {
        "id": "7NTpcsgP7ZmO"
      },
      "outputs": [],
      "source": [
        "# Import train_test_split\n",
        "from sklearn.model_selection import train_test_split\n",
        " \n",
        "# Partition data into training and testing set \n",
        "from sklearn.model_selection import train_test_split\n",
        "feature_train, feature_test, target_train, target_test = train_test_split(\n",
        "    count_vectors, df['feedback'], test_size=0.3, random_state=1)"
      ]
    },
    {
      "cell_type": "code",
      "execution_count": 54,
      "metadata": {
        "id": "zn7XIrwb7ZmO"
      },
      "outputs": [],
      "source": [
        "# import logistic regression scikit-learn model\n",
        "from sklearn.ensemble import RandomForestClassifier\n",
        " \n",
        "# instantiate the model\n",
        "ranfor = RandomForestClassifier()\n",
        " \n",
        "# fit the model with data\n",
        "ranfor.fit(feature_train,target_train)\n",
        " \n",
        "# Forecast the target variable for given test dataset\n",
        "predictions = ranfor.predict(feature_test)"
      ]
    },
    {
      "cell_type": "code",
      "execution_count": 55,
      "metadata": {
        "colab": {
          "base_uri": "https://localhost:8080/"
        },
        "scrolled": true,
        "outputId": "65d68449-9e81-4689-831a-72301a7cb094",
        "id": "eNNUo3zG7ZmO"
      },
      "outputs": [
        {
          "output_type": "stream",
          "name": "stdout",
          "text": [
            "Random Forest Model Accuracy: 0.9375661375661376\n",
            "Random Forest Model Precision: 0.9385113268608414\n",
            "Random Forest Model Recall: 0.9977064220183486\n",
            "Random Forest Model F1-Score: 0.9672040022234575\n"
          ]
        }
      ],
      "source": [
        "# Import metrics module for performance evaluation\n",
        "from sklearn.metrics import accuracy_score\n",
        "from sklearn.metrics import precision_score\n",
        "from sklearn.metrics import recall_score\n",
        "from sklearn.metrics import f1_score\n",
        "\n",
        "# Assess model performance using accuracy measure\n",
        "print(\"Random Forest Model Accuracy:\",accuracy_score(target_test, predictions))\n",
        "# Calculate model precision\n",
        "print(\"Random Forest Model Precision:\",precision_score(target_test, predictions))\n",
        "# Calculate model recall\n",
        "print(\"Random Forest Model Recall:\",recall_score(target_test, predictions))\n",
        "# Calculate model f1 score\n",
        "print(\"Random Forest Model F1-Score:\",f1_score(target_test, predictions))"
      ]
    },
    {
      "cell_type": "markdown",
      "source": [
        "##Classification using TF-IDF n-gram(1,2)"
      ],
      "metadata": {
        "id": "z2lXqphB7ZmP"
      }
    },
    {
      "cell_type": "code",
      "execution_count": 56,
      "metadata": {
        "colab": {
          "base_uri": "https://localhost:8080/"
        },
        "outputId": "c4036d40-3b6c-4ab3-b3db-626b5213f672",
        "id": "IAo6BJqZ7ZmP"
      },
      "outputs": [
        {
          "output_type": "stream",
          "name": "stderr",
          "text": [
            "/usr/local/lib/python3.8/dist-packages/sklearn/feature_extraction/text.py:528: UserWarning: The parameter 'token_pattern' will not be used since 'tokenizer' is not None'\n",
            "  warnings.warn(\n"
          ]
        }
      ],
      "source": [
        "# Import TfidfVectorizer and RegexTokenizer\n",
        "from nltk.tokenize import RegexpTokenizer\n",
        "from sklearn.feature_extraction.text import TfidfVectorizer\n",
        "\n",
        "# Create Regex tokenizer for removing special symbols and numeric values \n",
        "regex_tokenizer = RegexpTokenizer(r'[a-zA-Z]+')\n",
        " \n",
        "# Initialize TfidfVectorizer object\n",
        "tfidf = TfidfVectorizer(lowercase=True,stop_words='english',ngram_range = (1,2),tokenizer = regex_tokenizer.tokenize)\n",
        " \n",
        "# Fit and transform the dataset\n",
        "text_tfidf= tfidf.fit_transform(df['verified_reviews'])"
      ]
    },
    {
      "cell_type": "code",
      "execution_count": 57,
      "metadata": {
        "id": "QfUM5lTo7ZmP"
      },
      "outputs": [],
      "source": [
        "# Import train_test_split\n",
        "from sklearn.model_selection import train_test_split\n",
        " \n",
        "# Partition data into training and testing set \n",
        "from sklearn.model_selection import train_test_split\n",
        "feature_train, feature_test, target_train, target_test = train_test_split(\n",
        "    text_tfidf, df['feedback'], test_size=0.3, random_state=1)"
      ]
    },
    {
      "cell_type": "code",
      "execution_count": 58,
      "metadata": {
        "id": "5SFXXpFV7ZmP"
      },
      "outputs": [],
      "source": [
        "# import logistic regression scikit-learn model\n",
        "from sklearn.ensemble import RandomForestClassifier\n",
        " \n",
        "# instantiate the model\n",
        "ranfor = RandomForestClassifier()\n",
        " \n",
        "# fit the model with data\n",
        "ranfor.fit(feature_train,target_train)\n",
        " \n",
        "# Forecast the target variable for given test dataset\n",
        "predictions = ranfor.predict(feature_test)"
      ]
    },
    {
      "cell_type": "code",
      "execution_count": 59,
      "metadata": {
        "colab": {
          "base_uri": "https://localhost:8080/"
        },
        "scrolled": true,
        "outputId": "bdab5784-d6eb-40ee-ebf7-729b0834d774",
        "id": "nt9EcfsH7ZmP"
      },
      "outputs": [
        {
          "output_type": "stream",
          "name": "stdout",
          "text": [
            "Random Forest Model Accuracy: 0.9396825396825397\n",
            "Random Forest Model Precision: 0.9386437029063509\n",
            "Random Forest Model Recall: 1.0\n",
            "Random Forest Model F1-Score: 0.9683509161576902\n"
          ]
        }
      ],
      "source": [
        "# Import metrics module for performance evaluation\n",
        "from sklearn.metrics import accuracy_score\n",
        "from sklearn.metrics import precision_score\n",
        "from sklearn.metrics import recall_score\n",
        "from sklearn.metrics import f1_score\n",
        "\n",
        "# Assess model performance using accuracy measure\n",
        "print(\"Random Forest Model Accuracy:\",accuracy_score(target_test, predictions))\n",
        "# Calculate model precision\n",
        "print(\"Random Forest Model Precision:\",precision_score(target_test, predictions))\n",
        "# Calculate model recall\n",
        "print(\"Random Forest Model Recall:\",recall_score(target_test, predictions))\n",
        "# Calculate model f1 score\n",
        "print(\"Random Forest Model F1-Score:\",f1_score(target_test, predictions))"
      ]
    }
  ],
  "metadata": {
    "colab": {
      "provenance": [],
      "include_colab_link": true
    },
    "kernelspec": {
      "display_name": "Python 3",
      "language": "python",
      "name": "python3"
    },
    "language_info": {
      "codemirror_mode": {
        "name": "ipython",
        "version": 3
      },
      "file_extension": ".py",
      "mimetype": "text/x-python",
      "name": "python",
      "nbconvert_exporter": "python",
      "pygments_lexer": "ipython3",
      "version": "3.8.3"
    }
  },
  "nbformat": 4,
  "nbformat_minor": 0
}